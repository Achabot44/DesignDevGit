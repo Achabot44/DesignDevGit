{
 "cells": [
  {
   "cell_type": "code",
   "execution_count": 14,
   "source": [
    "#Import at least three documents you would like to compare.\r\n",
    "import urllib.request, urllib.error, urllib.parse\r\n",
    "\r\n",
    "url = 'https://www.gutenberg.org/cache/epub/4018/pg4018.txt'\r\n",
    "\r\n",
    "response = urllib.request.urlopen(url)\r\n",
    "webContent = response.read()\r\n",
    "\r\n",
    "f = open('Ozaki.txt', 'wb')\r\n",
    "f.write(webContent)\r\n",
    "f.close()\r\n",
    "\r\n",
    "print(webContent[0:1000])"
   ],
   "outputs": [
    {
     "output_type": "stream",
     "name": "stdout",
     "text": [
      "b'\\xef\\xbb\\xbfThe Project Gutenberg EBook of Japanese Fairy Tales, by Yei Theodora Ozaki\\r\\n\\r\\nThis eBook is for the use of anyone anywhere at no cost and with\\r\\nalmost no restrictions whatsoever.  You may copy it, give it away or\\r\\nre-use it under the terms of the Project Gutenberg License included\\r\\nwith this eBook or online at www.gutenberg.org\\r\\n\\r\\n\\r\\nTitle: Japanese Fairy Tales\\r\\n\\r\\nAuthor: Yei Theodora Ozaki\\r\\n\\r\\nPosting Date: June 4, 2009 [EBook #4018]\\r\\nRelease Date: May, 2003\\r\\nFirst Posted: October 11, 2001\\r\\n\\r\\nLanguage: English\\r\\n\\r\\n\\r\\n*** START OF THIS PROJECT GUTENBERG EBOOK JAPANESE FAIRY TALES ***\\r\\n\\r\\n\\r\\n\\r\\n\\r\\nProduced by Charles Franks, Greg Weeks and the Online\\r\\nDistributed Proofreading Team. HTML version by Al Haines.\\r\\n\\r\\n\\r\\n\\r\\n\\r\\n\\r\\n\\r\\n\\r\\n\\r\\n\\r\\n\\r\\n\\r\\nJAPANESE FAIRY TALES\\r\\n\\r\\nCOMPILED BY\\r\\n\\r\\nYEI THEODORA OZAKI\\r\\n\\r\\n\\r\\n\\r\\n\\r\\nProfusely Illustrated by Japanese Artists\\r\\n\\r\\n\\r\\n\\r\\n\\r\\nTO\\r\\n\\r\\nELEANOR MARION-CRAWFORD.\\r\\n\\r\\nI DEDICATE THIS BOOK TO YOU AND TO THE SWEET CHILD-FRIENDSHIP THAT YOU\\r\\nGAVE ME IN THE DAYS SPENT WITH YOU BY THE'\n"
     ]
    }
   ],
   "metadata": {}
  },
  {
   "cell_type": "code",
   "execution_count": 15,
   "source": [
    "import urllib.request, urllib.error, urllib.parse\r\n",
    "\r\n",
    "url = 'https://www.gutenberg.org/cache/epub/28/pg28.txt'\r\n",
    "\r\n",
    "response = urllib.request.urlopen(url)\r\n",
    "webContent = response.read()\r\n",
    "\r\n",
    "f = open('Aesop.txt', 'wb')\r\n",
    "f.write(webContent)\r\n",
    "f.close()\r\n",
    "\r\n",
    "print(webContent[0:1000])"
   ],
   "outputs": [
    {
     "output_type": "stream",
     "name": "stdout",
     "text": [
      "b\"\\xef\\xbb\\xbfThe Project Gutenberg EBook of Aesop's Fables, by Aesop\\r\\n\\r\\nThis eBook is for the use of anyone anywhere at no cost and with\\r\\nalmost no restrictions whatsoever.  You may copy it, give it away or\\r\\nre-use it under the terms of the Project Gutenberg License included\\r\\nwith this eBook or online at www.gutenberg.org\\r\\n\\r\\n\\r\\nTitle: Aesop's Fables\\r\\n\\r\\nAuthor: Aesop\\r\\n\\r\\nPosting Date: December 18, 2011 [EBook #28]\\r\\nRelease Date: March 8, 1992\\r\\nLast Updated: March 15, 2002\\r\\n\\r\\nLanguage: English\\r\\n\\r\\n\\r\\n*** START OF THIS PROJECT GUTENBERG EBOOK AESOP'S FABLES ***\\r\\n\\r\\n\\r\\n**********************************************************************\\r\\nEBOOK (#30) WAS ONE OF PROJECT GUTENBERG'S EARLY FILES PRODUCED AT A\\r\\nTIME WHEN PROOFING METHODS AND TOOLS WERE NOT WELL DEVELOPED. THERE IS\\r\\nAN IMPROVED EDITION OF THIS TITLE WHICH MAY BE VIEWED AT EBOOK #18732\\r\\n**********************************************************************\\r\\n\\r\\n\\r\\n\\r\\n\\r\\n\\r\\n                       AESOP'S FABLES (82 Fables)\\r\\n\\r\\n\\r\\nFrom The PaperLess Rea\"\n"
     ]
    }
   ],
   "metadata": {}
  },
  {
   "cell_type": "code",
   "execution_count": 16,
   "source": [
    "import urllib.request, urllib.error, urllib.parse\r\n",
    "\r\n",
    "url = 'https://www.gutenberg.org/cache/epub/537/pg537.txt'\r\n",
    "\r\n",
    "response = urllib.request.urlopen(url)\r\n",
    "webContent = response.read()\r\n",
    "\r\n",
    "f = open('Doyle.txt', 'wb')\r\n",
    "f.write(webContent)\r\n",
    "f.close()\r\n",
    "print(webContent[0:1000])"
   ],
   "outputs": [
    {
     "output_type": "stream",
     "name": "stdout",
     "text": [
      "b\"\\xef\\xbb\\xbfProject Gutenberg's Tales of Terror and Mystery, by Arthur Conan Doyle\\r\\n\\r\\nThis eBook is for the use of anyone anywhere at no cost and with\\r\\nalmost no restrictions whatsoever.  You may copy it, give it away or\\r\\nre-use it under the terms of the Project Gutenberg License included\\r\\nwith this eBook or online at www.gutenberg.org\\r\\n\\r\\n\\r\\nTitle: Tales of Terror and Mystery\\r\\n\\r\\nAuthor: Arthur Conan Doyle\\r\\n\\r\\nPosting Date: October 10, 2008 [EBook #537]\\r\\nRelease Date: May, 1996\\r\\n[Last updated: December 8, 2011]\\r\\n\\r\\nLanguage: English\\r\\n\\r\\n\\r\\n*** START OF THIS PROJECT GUTENBERG EBOOK TALES OF TERROR AND MYSTERY ***\\r\\n\\r\\n\\r\\n\\r\\n\\r\\nProduced by Charles Keller.  HTML version by Al Haines.\\r\\n\\r\\n\\r\\n\\r\\n\\r\\n\\r\\n\\r\\n\\r\\n\\r\\n\\r\\nTales of Terror and Mystery\\r\\n\\r\\n\\r\\nBy\\r\\n\\r\\nSir Arthur Conan Doyle\\r\\n\\r\\n\\r\\n\\r\\nContents\\r\\n\\r\\nTales of Terror\\r\\n\\r\\n  The Horror of the Heights\\r\\n  The Leather Funnel\\r\\n  The New Catacomb\\r\\n  The Case of Lady Sannox\\r\\n  The Terror of Blue John Gap\\r\\n  The Brazilian Cat\\r\\n\\r\\n\\r\\nTales of Mystery\\r\\n\\r\\n  The Lost Special\\r\\n  The Beetle-Hunt\"\n"
     ]
    }
   ],
   "metadata": {}
  },
  {
   "cell_type": "code",
   "execution_count": 17,
   "source": [
    "#Preprocess the text and create a tokenized corpus from the text of the imported documents.\r\n",
    "import nltk\r\n",
    "import nltk.tokenize\r\n",
    "\r\n",
    "# download the most recent punkt package\r\n",
    "nltk.download('punkt', quiet=True)\r\n",
    "\r\n",
    "corpus = [\"Ozaki.txt\",\"Aesop.txt\",\"Doyle.txt\"]\r\n",
    "titles = [\"Japanese Fairy Tales\",\"Aesop's Fables\",\"Tales of Terror and Mystery\"]\r\n",
    "documents = []\r\n",
    "for url in corpus:\r\n",
    "    f = open(url, encoding='utf-8')\r\n",
    "    text = f.read()\r\n",
    "    documents.append(text)\r\n",
    "print(documents[1][0:100])"
   ],
   "outputs": [
    {
     "output_type": "stream",
     "name": "stdout",
     "text": [
      "The Project Gutenberg EBook of Aesop's Fables, by Aesop\n",
      "\n",
      "This eBook is for the use of anyone anywhe\n"
     ]
    }
   ],
   "metadata": {}
  }
 ],
 "metadata": {
  "orig_nbformat": 4,
  "language_info": {
   "name": "python",
   "version": "3.8.11",
   "mimetype": "text/x-python",
   "codemirror_mode": {
    "name": "ipython",
    "version": 3
   },
   "pygments_lexer": "ipython3",
   "nbconvert_exporter": "python",
   "file_extension": ".py"
  },
  "kernelspec": {
   "name": "python3",
   "display_name": "Python 3.8.8 64-bit ('base': conda)"
  },
  "interpreter": {
   "hash": "513dc2e41d739bb2c947903f3c0bbf636d03aa53ab50e61c694a27481c81805e"
  }
 },
 "nbformat": 4,
 "nbformat_minor": 2
}