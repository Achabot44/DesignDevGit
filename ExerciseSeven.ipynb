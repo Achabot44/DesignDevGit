{
 "cells": [
  {
   "cell_type": "code",
   "execution_count": 14,
   "metadata": {},
   "outputs": [
    {
     "name": "stdout",
     "output_type": "stream",
     "text": [
      "b'\\xef\\xbb\\xbfThe Project Gutenberg EBook of Japanese Fairy Tales, by Yei Theodora Ozaki\\r\\n\\r\\nThis eBook is for the use of anyone anywhere at no cost and with\\r\\nalmost no restrictions whatsoever.  You may copy it, give it away or\\r\\nre-use it under the terms of the Project Gutenberg License included\\r\\nwith this eBook or online at www.gutenberg.org\\r\\n\\r\\n\\r\\nTitle: Japanese Fairy Tales\\r\\n\\r\\nAuthor: Yei Theodora Ozaki\\r\\n\\r\\nPosting Date: June 4, 2009 [EBook #4018]\\r\\nRelease Date: May, 2003\\r\\nFirst Posted: October 11, 2001\\r\\n\\r\\nLanguage: English\\r\\n\\r\\n\\r\\n*** START OF THIS PROJECT GUTENBERG EBOOK JAPANESE FAIRY TALES ***\\r\\n\\r\\n\\r\\n\\r\\n\\r\\nProduced by Charles Franks, Greg Weeks and the Online\\r\\nDistributed Proofreading Team. HTML version by Al Haines.\\r\\n\\r\\n\\r\\n\\r\\n\\r\\n\\r\\n\\r\\n\\r\\n\\r\\n\\r\\n\\r\\n\\r\\nJAPANESE FAIRY TALES\\r\\n\\r\\nCOMPILED BY\\r\\n\\r\\nYEI THEODORA OZAKI\\r\\n\\r\\n\\r\\n\\r\\n\\r\\nProfusely Illustrated by Japanese Artists\\r\\n\\r\\n\\r\\n\\r\\n\\r\\nTO\\r\\n\\r\\nELEANOR MARION-CRAWFORD.\\r\\n\\r\\nI DEDICATE THIS BOOK TO YOU AND TO THE SWEET CHILD-FRIENDSHIP THAT YOU\\r\\nGAVE ME IN THE DAYS SPENT WITH YOU BY THE'\n"
     ]
    }
   ],
   "source": [
    "#Import at least three documents you would like to compare.\n",
    "import urllib.request, urllib.error, urllib.parse\n",
    "\n",
    "url = 'https://www.gutenberg.org/cache/epub/4018/pg4018.txt'\n",
    "\n",
    "response = urllib.request.urlopen(url)\n",
    "webContent = response.read()\n",
    "\n",
    "f = open('Ozaki.txt', 'wb')\n",
    "f.write(webContent)\n",
    "f.close()\n",
    "\n",
    "print(webContent[0:1000])"
   ]
  },
  {
   "cell_type": "code",
   "execution_count": 15,
   "metadata": {},
   "outputs": [
    {
     "name": "stdout",
     "output_type": "stream",
     "text": [
      "b\"\\xef\\xbb\\xbfThe Project Gutenberg EBook of Aesop's Fables, by Aesop\\r\\n\\r\\nThis eBook is for the use of anyone anywhere at no cost and with\\r\\nalmost no restrictions whatsoever.  You may copy it, give it away or\\r\\nre-use it under the terms of the Project Gutenberg License included\\r\\nwith this eBook or online at www.gutenberg.org\\r\\n\\r\\n\\r\\nTitle: Aesop's Fables\\r\\n\\r\\nAuthor: Aesop\\r\\n\\r\\nPosting Date: December 18, 2011 [EBook #28]\\r\\nRelease Date: March 8, 1992\\r\\nLast Updated: March 15, 2002\\r\\n\\r\\nLanguage: English\\r\\n\\r\\n\\r\\n*** START OF THIS PROJECT GUTENBERG EBOOK AESOP'S FABLES ***\\r\\n\\r\\n\\r\\n**********************************************************************\\r\\nEBOOK (#30) WAS ONE OF PROJECT GUTENBERG'S EARLY FILES PRODUCED AT A\\r\\nTIME WHEN PROOFING METHODS AND TOOLS WERE NOT WELL DEVELOPED. THERE IS\\r\\nAN IMPROVED EDITION OF THIS TITLE WHICH MAY BE VIEWED AT EBOOK #18732\\r\\n**********************************************************************\\r\\n\\r\\n\\r\\n\\r\\n\\r\\n\\r\\n                       AESOP'S FABLES (82 Fables)\\r\\n\\r\\n\\r\\nFrom The PaperLess Rea\"\n"
     ]
    }
   ],
   "source": [
    "import urllib.request, urllib.error, urllib.parse\n",
    "\n",
    "url = 'https://www.gutenberg.org/cache/epub/28/pg28.txt'\n",
    "\n",
    "response = urllib.request.urlopen(url)\n",
    "webContent = response.read()\n",
    "\n",
    "f = open('Aesop.txt', 'wb')\n",
    "f.write(webContent)\n",
    "f.close()\n",
    "\n",
    "print(webContent[0:1000])"
   ]
  },
  {
   "cell_type": "code",
   "execution_count": 16,
   "metadata": {},
   "outputs": [
    {
     "name": "stdout",
     "output_type": "stream",
     "text": [
      "b\"\\xef\\xbb\\xbfProject Gutenberg's Tales of Terror and Mystery, by Arthur Conan Doyle\\r\\n\\r\\nThis eBook is for the use of anyone anywhere at no cost and with\\r\\nalmost no restrictions whatsoever.  You may copy it, give it away or\\r\\nre-use it under the terms of the Project Gutenberg License included\\r\\nwith this eBook or online at www.gutenberg.org\\r\\n\\r\\n\\r\\nTitle: Tales of Terror and Mystery\\r\\n\\r\\nAuthor: Arthur Conan Doyle\\r\\n\\r\\nPosting Date: October 10, 2008 [EBook #537]\\r\\nRelease Date: May, 1996\\r\\n[Last updated: December 8, 2011]\\r\\n\\r\\nLanguage: English\\r\\n\\r\\n\\r\\n*** START OF THIS PROJECT GUTENBERG EBOOK TALES OF TERROR AND MYSTERY ***\\r\\n\\r\\n\\r\\n\\r\\n\\r\\nProduced by Charles Keller.  HTML version by Al Haines.\\r\\n\\r\\n\\r\\n\\r\\n\\r\\n\\r\\n\\r\\n\\r\\n\\r\\n\\r\\nTales of Terror and Mystery\\r\\n\\r\\n\\r\\nBy\\r\\n\\r\\nSir Arthur Conan Doyle\\r\\n\\r\\n\\r\\n\\r\\nContents\\r\\n\\r\\nTales of Terror\\r\\n\\r\\n  The Horror of the Heights\\r\\n  The Leather Funnel\\r\\n  The New Catacomb\\r\\n  The Case of Lady Sannox\\r\\n  The Terror of Blue John Gap\\r\\n  The Brazilian Cat\\r\\n\\r\\n\\r\\nTales of Mystery\\r\\n\\r\\n  The Lost Special\\r\\n  The Beetle-Hunt\"\n"
     ]
    }
   ],
   "source": [
    "import urllib.request, urllib.error, urllib.parse\n",
    "\n",
    "url = 'https://www.gutenberg.org/cache/epub/537/pg537.txt'\n",
    "\n",
    "response = urllib.request.urlopen(url)\n",
    "webContent = response.read()\n",
    "\n",
    "f = open('Doyle.txt', 'wb')\n",
    "f.write(webContent)\n",
    "f.close()\n",
    "print(webContent[0:1000])"
   ]
  },
  {
   "cell_type": "code",
   "execution_count": 17,
   "metadata": {},
   "outputs": [
    {
     "name": "stdout",
     "output_type": "stream",
     "text": [
      "The Project Gutenberg EBook of Aesop's Fables, by Aesop\n",
      "\n",
      "This eBook is for the use of anyone anywhe\n"
     ]
    }
   ],
   "source": [
    "#Preprocess the text and create a tokenized corpus from the text of the imported documents.\n",
    "import nltk\n",
    "import nltk.tokenize\n",
    "\n",
    "# download the most recent punkt package\n",
    "nltk.download('punkt', quiet=True)\n",
    "\n",
    "corpus = [\"Ozaki.txt\",\"Aesop.txt\",\"Doyle.txt\"]\n",
    "titles = [\"Japanese Fairy Tales\",\"Aesop's Fables\",\"Tales of Terror and Mystery\"]\n",
    "documents = []\n",
    "for url in corpus:\n",
    "    f = open(url, encoding='utf-8')\n",
    "    text = f.read()\n",
    "    documents.append(text)\n",
    "print(documents[1][0:100])"
   ]
  },
  {
   "cell_type": "code",
   "execution_count": 18,
   "metadata": {},
   "outputs": [],
   "source": [
    "#Preprocessing: checking to see if a string is not a punctuation marker\n",
    "import re\n",
    "\n",
    "PUNCT_RE = re.compile(r'[^\\w\\s]+$')\n",
    "\n",
    "def is_punct(string):\n",
    "    \n",
    "    return PUNCT_RE.match(string) is not None\n"
   ]
  },
  {
   "cell_type": "code",
   "execution_count": 19,
   "metadata": {},
   "outputs": [],
   "source": [
    "##Preprocessing: putting text into lower case tokens\n",
    "def preprocess_text(text, language, lowercase=True):\n",
    "   \n",
    "    if lowercase:\n",
    "        text = text.lower()\n",
    "    tokens = nltk.tokenize.word_tokenize(text, language=language)\n",
    "    tokens = [token for token in tokens if not is_punct(token)]\n",
    "    return tokens"
   ]
  },
  {
   "cell_type": "code",
   "execution_count": 22,
   "metadata": {},
   "outputs": [
    {
     "name": "stdout",
     "output_type": "stream",
     "text": [
      "ozaki\n"
     ]
    }
   ],
   "source": [
    "#Preprocessing: this demonstrates that the strings have been tokenized and put in lower case \n",
    "tokenized = []\n",
    "for text in documents:\n",
    "    tokenized.append(preprocess_text(text, \"english\"))\n",
    "\n",
    "print(tokenized[0][11])"
   ]
  },
  {
   "cell_type": "code",
   "execution_count": 23,
   "metadata": {},
   "outputs": [
    {
     "name": "stdout",
     "output_type": "stream",
     "text": [
      "[\"'and\", \"'as-is\", \"'crack\", \"'devil\", \"'he\", \"'is\", \"'it\", \"'ll\", \"'m\", \"'s\", \"'the\", \"'ve\", \"'yes\", \"'you\", '//gutenberg.org/license', '//pglaf.org', '//pglaf.org/donate', '//pglaf.org/fundraising', '//www.gutenberg.org', '//www.pglaf.org', '1', '1.', '1.a', '1.b', '1.c', '1.d', '1.e', '1.e.1', '1.e.2', '1.e.3', '1.e.4', '1.e.5', '1.e.6', '1.e.7', '1.e.8', '1.e.9', '1.f', '1.f.1', '1.f.2', '1.f.3', '1.f.4', '1.f.5', '1.f.6', '15', '1500', '1890', '18th', '1908.', '2', '2.', '20', '2001', '2011', '21st', '3', '3.', '30', '3rd', '4', '4.', '4557', '4th', '5,000', '5.', '50', '501', '596-1887', '60', '64-6221541.', '713', '77b', '7th', '8', '801', '809', '84116', '90', '99712.', 'a', 'abandon', 'abandoned', 'abide', 'ability', 'ablaze', 'able', 'abnormal', 'abode', 'abominable', 'about', 'above', 'abroad', 'absence', 'absent', 'absolute', 'absolutely', 'absurd', 'absurdly', 'abundance', 'accept', 'accepted']\n"
     ]
    }
   ],
   "source": [
    "#Preprocessing: here we are creating a list of unique words that will be placed in alpha order and make sure the text is ready to be turned into a term-matrix\n",
    "def extract_vocabulary(tokenized_corpus, min_count=1, max_count=float('inf')):\n",
    "   \n",
    "    vocabulary = collections.Counter()\n",
    "    for document in tokenized_corpus:\n",
    "        vocabulary.update(document)\n",
    "    vocabulary = {word for word, count in vocabulary.items()\n",
    "                  if count >= min_count and count <= max_count}\n",
    "    return sorted(vocabulary)\n",
    "import collections\n",
    "vocabulary = extract_vocabulary(tokenized, min_count=2)\n",
    "print(vocabulary[0:100])"
   ]
  },
  {
   "cell_type": "code",
   "execution_count": 27,
   "metadata": {},
   "outputs": [
    {
     "name": "stdout",
     "output_type": "stream",
     "text": [
      "Old: [401  24  68]\n",
      "Young: [52 17 46]\n"
     ]
    }
   ],
   "source": [
    "#Create a document term matrix to enable comparative textual analysis across the full set of documents\n",
    "#Chart at least one comparison between the documents, using word frequency to map the text\n",
    "def corpus2dtm(tokenized_corpus, vocabulary):\n",
    "    \n",
    "    document_term_matrix = []\n",
    "    for document in tokenized_corpus:\n",
    "        document_counts = collections.Counter(document)\n",
    "        row = [document_counts[word] for word in vocabulary]\n",
    "        document_term_matrix.append(row)\n",
    "    return document_term_matrix\n",
    "\n",
    "import numpy as np\n",
    "\n",
    "document_term_matrix = np.array(corpus2dtm(tokenized, vocabulary))\n",
    "old_id = vocabulary.index('old')\n",
    "young_id = vocabulary.index('young')\n",
    "\n",
    "old_counts = document_term_matrix[:, old_id]\n",
    "young_counts = document_term_matrix[:, young_id]\n",
    "print(\"Old: \" + str(old_counts))\n",
    "print(\"Young: \" + str(young_counts))"
   ]
  },
  {
   "cell_type": "code",
   "execution_count": 32,
   "metadata": {},
   "outputs": [
    {
     "data": {
      "image/png": "[encoded data removed]",
      "text/plain": [
       "<Figure size 432x288 with 1 Axes>"
      ]
     },
     "metadata": {
      "needs_background": "light"
     },
     "output_type": "display_data"
    }
   ],
   "source": [
    "import matplotlib.pyplot as plt\n",
    "\n",
    "x = np.arange(len(titles))\n",
    "width = 0.3\n",
    "\n",
    "fig, ax = plt.subplots()\n",
    "rects1 = ax.bar(x - width/2, old_counts, width, label='Old')\n",
    "rects2 = ax.bar(x + width/2, young_counts, width, label='Young')\n",
    "\n",
    "ax.set_ylabel('Word Count')\n",
    "ax.set_title('Age Reference Word Frequency')\n",
    "ax.set_xticks(x)\n",
    "ax.set_xticklabels(titles)\n",
    "ax.legend()\n",
    "\n",
    "fig.tight_layout()\n",
    "\n",
    "plt.show()"
   ]
  },
  {
   "cell_type": "code",
   "execution_count": 29,
   "metadata": {},
   "outputs": [],
   "source": [
    "japanese = np.array([old_counts[0], young_counts[0]])\n",
    "aesop = np.array([old_counts[1], young_counts[1]])\n",
    "tales = np.array([old_counts[2], young_counts[2]])"
   ]
  },
  {
   "cell_type": "code",
   "execution_count": 31,
   "metadata": {},
   "outputs": [
    {
     "name": "stdout",
     "output_type": "stream",
     "text": [
      "Japanese - Aesop: 378.62\n",
      "Japanese - Tales: 333.05\n",
      "Aesop - Tales: 52.70\n"
     ]
    }
   ],
   "source": [
    "#Calculate the Euclidean distance between the documents, using two key words as the point of comparison\n",
    "def euclidean_distance(a, b):\n",
    "\n",
    "    return np.sqrt(np.sum((a - b) ** 2))\n",
    "\n",
    "japaneseaesop = euclidean_distance(japanese, aesop)\n",
    "print(f'Japanese - Aesop: {japaneseaesop:.2f}')\n",
    "\n",
    "japanesetales = euclidean_distance(japanese, tales)\n",
    "print(f'Japanese - Tales: {japanesetales:.2f}')\n",
    "\n",
    "aesoptales = euclidean_distance(aesop, tales)\n",
    "print(f'Aesop - Tales: {aesoptales:.2f}')"
   ]
  }
 ],
 "metadata": {
  "interpreter": {
   "hash": "513dc2e41d739bb2c947903f3c0bbf636d03aa53ab50e61c694a27481c81805e"
  },
  "kernelspec": {
   "display_name": "Python 3.8.11 64-bit ('base': conda)",
   "name": "python3"
  },
  "language_info": {
   "codemirror_mode": {
    "name": "ipython",
    "version": 3
   },
   "file_extension": ".py",
   "mimetype": "text/x-python",
   "name": "python",
   "nbconvert_exporter": "python",
   "pygments_lexer": "ipython3",
   "version": "3.8.11"
  },
  "orig_nbformat": 4
 },
 "nbformat": 4,
 "nbformat_minor": 2
}
