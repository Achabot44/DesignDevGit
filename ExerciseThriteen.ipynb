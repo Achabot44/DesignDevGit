{
 "cells": [
  {
   "cell_type": "code",
   "execution_count": 1,
   "metadata": {},
   "outputs": [],
   "source": [
    "import requests\n",
    "from bs4 import BeautifulSoup\n",
    "import pandas as pd"
   ]
  },
  {
   "cell_type": "code",
   "execution_count": 7,
   "metadata": {},
   "outputs": [],
   "source": [
    "review_dict = {'name':[], 'date':[], 'rating':[], 'review':[]}\n",
    "for i in range(0,39):\n",
    "    url = 'https://www.metacritic.com/game/playstation-4/crystar/user-reviews?page=' + str(i)\n",
    "    user_agent = {'User-agent': 'Mozilla/5.0'}\n",
    "    response = requests.get(url, headers = user_agent)\n",
    "    soup = BeautifulSoup(response.text, 'html.parser')\n",
    "    for review in soup.find_all('div', class_='review_content'): \n",
    "        if review.find('div', class_='name') == None:\n",
    "            break \n",
    "        review_dict['name'].append(review.find('div', class_='name').find('a').text)\n",
    "        review_dict['date'].append(review.find('div', class_='date').text)\n",
    "        review_dict['rating'].append(review.find('div', class_='review_grade').find_all('div')[0].text)\n",
    "        if review.find('span', class_='blurb blurb_expanded'): \n",
    "            review_dict['review'].append(review.find('span', class_='blurb blurb_expanded').text)\n",
    "           # print(review.find('span', class_='blurb blurb_expanded').text)\n",
    "        elif review.find('div',class_='review_body').find('span') == None:\n",
    "            review_dict['review'].append('No review text.')\n",
    "           # print(\"No review\")\n",
    "        else:\n",
    "            review_dict['review'].append(review.find('div',class_='review_body').find('span').text)"
   ]
  },
  {
   "cell_type": "code",
   "execution_count": 8,
   "metadata": {},
   "outputs": [
    {
     "name": "stdout",
     "output_type": "stream",
     "text": [
      "               name          date rating  \\\n",
      "0      c57v76v7v7v6  Aug 10, 2020     10   \n",
      "1        Starzen517  Jul 24, 2020     10   \n",
      "2   tesadesrvdbetta  Feb  5, 2020     10   \n",
      "3          motymurm  Feb 19, 2020      9   \n",
      "4           WAR1812  Sep  7, 2019      9   \n",
      "5    Dr4gonkiller96  Oct 24, 2019      9   \n",
      "6   Cageyanemone007  Sep 19, 2019     10   \n",
      "7           Danisco  Sep  2, 2019     10   \n",
      "8        terraxptan  Sep  1, 2019     10   \n",
      "9              Rod1  Mar 28, 2020      8   \n",
      "10        Valtiel86  Aug 31, 2019      7   \n",
      "11    TricksterZero  Sep  8, 2019      7   \n",
      "12          Hammer7  May 30, 2020      8   \n",
      "13   AncapMetaleiro  May 13, 2020      6   \n",
      "14       Laithherzo  Jul 26, 2020      1   \n",
      "15     shamballa_69  Jul 19, 2020      0   \n",
      "16       Uzumaki212  Sep 22, 2019      5   \n",
      "17        DenerMelo  Jul 19, 2020      0   \n",
      "18          Skapple  Aug  4, 2020      0   \n",
      "19    Hugegapjungle  Jul  4, 2020      1   \n",
      "20           Martma  Jul 19, 2020      1   \n",
      "21  beautifulforest  Oct 14, 2021     10   \n",
      "22            Yanny  Sep 19, 2020      0   \n",
      "23         Wolf9715  Aug 13, 2020      0   \n",
      "24       dragosinsc  Aug  9, 2020      0   \n",
      "25      TheGoodGoat  Jun 27, 2021      4   \n",
      "26            Seath  Apr  3, 2021     10   \n",
      "27          Ben_ben  Nov  2, 2021      0   \n",
      "28          Ourflag  May  9, 2021     10   \n",
      "29          LadyEir  May 25, 2021      9   \n",
      "30          somatzu  Jun 22, 2021      0   \n",
      "\n",
      "                                               review  \n",
      "0   ­­­­­­­­­­­­­­­­­­­­­­­­­­­­­­­­­­­­­­­­­­­­­­...  \n",
      "1   This game is amazing with like only one flaw. ...  \n",
      "2   A masterpiece in every sense of the word, beau...  \n",
      "3   Достоинства\\r- Сюжет. Нет, серьезно. Перед нам...  \n",
      "4   Fun action JRPG with a unique story. Character...  \n",
      "5   Crystar has been one of my favourite games thi...  \n",
      "6   I loved Crystar. Yes, there are some weak poin...  \n",
      "7   It's a competent ARPG. Combat is smooth, not t...  \n",
      "8   Great music, nice story, and a decent gameplay...  \n",
      "9   This is a dark game with good story and gamepl...  \n",
      "10  Great art and music plus a decent story. The c...  \n",
      "11  The story is the strongest part of the game an...  \n",
      "12  Awesome story and characters. Very fun. Love t...  \n",
      "13  Crystar é um jogo que tem uma ótima premissa, ...  \n",
      "14  Its a really bad game and dont deserve that hi...  \n",
      "15  Terrible game with cringe story and characters...  \n",
      "16  No Spoilers Here\\r This game is strange, that'...  \n",
      "17  Infelizmente não é um gênero que agrada a muit...  \n",
      "18  Horible Story and charachters, the fighting sy...  \n",
      "19  Terrible game with cringe story and characters...  \n",
      "20  Game is very boring, everything is repetitive ...  \n",
      "21  As others say, the gameplay is not that intere...  \n",
      "22  Who rated this game so high??????? The second ...  \n",
      "23  I don't like the story too much it's horrible,...  \n",
      "24                                    No review text.  \n",
      "25  THIS IS FOR ANYONE ENTICED BY THE USER SCORE! ...  \n",
      "26  Let me just say that yes, the game has some fl...  \n",
      "27  Strange. The user score has 2000 positive but ...  \n",
      "28  The gameplay is a bit boring, but the story an...  \n",
      "29  This type of game isn't going to be for everyo...  \n",
      "30  Anime fans literally have no sense of taste. L...  \n"
     ]
    }
   ],
   "source": [
    "cs_reviews = pd.DataFrame(review_dict)\n",
    "print(cs_reviews)"
   ]
  }
 ],
 "metadata": {
  "interpreter": {
   "hash": "513dc2e41d739bb2c947903f3c0bbf636d03aa53ab50e61c694a27481c81805e"
  },
  "kernelspec": {
   "display_name": "Python 3.8.11 64-bit ('base': conda)",
   "name": "python3"
  },
  "language_info": {
   "codemirror_mode": {
    "name": "ipython",
    "version": 3
   },
   "file_extension": ".py",
   "mimetype": "text/x-python",
   "name": "python",
   "nbconvert_exporter": "python",
   "pygments_lexer": "ipython3",
   "version": "3.8.11"
  },
  "orig_nbformat": 4
 },
 "nbformat": 4,
 "nbformat_minor": 2
}
