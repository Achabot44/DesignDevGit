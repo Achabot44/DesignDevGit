{
 "cells": [
  {
   "cell_type": "code",
   "execution_count": 4,
   "metadata": {},
   "outputs": [
    {
     "name": "stdout",
     "output_type": "stream",
     "text": [
      "id           int64\n",
      "keyword     object\n",
      "location    object\n",
      "text        object\n",
      "target       int64\n",
      "dtype: object\n"
     ]
    }
   ],
   "source": [
    "#Import or collect tweets using a keyword or hashtag. Watch your rate limiting\n",
    "# After setting up a twitter account and applying for a developer account, my approval still has not come.\n",
    "#This may be because I am not a twitter user and just opened the account and have not done anything with it other than the application?\n",
    "#I can no longer wait for approval so I found a tweet based file in Kaggle that contains geographic data and will download it\n",
    "# into the appropriate file and start from there.\n",
    "\n",
    "import pandas as pd\n",
    "df = pd.read_csv('tweets.csv')\n",
    "print(df.dtypes)\n",
    "\n",
    "\n"
   ]
  },
  {
   "cell_type": "code",
   "execution_count": 6,
   "metadata": {},
   "outputs": [
    {
     "name": "stdout",
     "output_type": "stream",
     "text": [
      "  keyword         location\n",
      "2  ablaze    New York City\n",
      "3  ablaze   Morgantown, WV\n",
      "5  ablaze               OC\n",
      "6  ablaze  London, England\n",
      "7  ablaze           Bharat\n"
     ]
    }
   ],
   "source": [
    "df = df.loc[df['location'].notnull()]\n",
    "\n",
    "print(df[['keyword','location']].head())"
   ]
  }
 ],
 "metadata": {
  "interpreter": {
   "hash": "513dc2e41d739bb2c947903f3c0bbf636d03aa53ab50e61c694a27481c81805e"
  },
  "kernelspec": {
   "display_name": "Python 3.8.11 64-bit ('base': conda)",
   "name": "python3"
  },
  "language_info": {
   "codemirror_mode": {
    "name": "ipython",
    "version": 3
   },
   "file_extension": ".py",
   "mimetype": "text/x-python",
   "name": "python",
   "nbconvert_exporter": "python",
   "pygments_lexer": "ipython3",
   "version": "3.8.11"
  },
  "orig_nbformat": 4
 },
 "nbformat": 4,
 "nbformat_minor": 2
}
