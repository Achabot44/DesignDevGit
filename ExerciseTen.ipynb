{
 "cells": [
  {
   "cell_type": "code",
   "execution_count": null,
   "metadata": {},
   "outputs": [],
   "source": [
    "#Import or collect tweets using a keyword or hashtag. Watch your rate limiting\n",
    "# After setting up a twitter account and applying for a developer account, my approval still has not come.\n",
    "#This may be because I am not a twitter user and just opened the account and have not done anything with it other than the application?\n",
    "#I can no longer wait for approval so I found a tweet based file in Kaggle that contains geographic data and will start from there.\n"
   ]
  }
 ],
 "metadata": {
  "language_info": {
   "name": "python"
  },
  "orig_nbformat": 4
 },
 "nbformat": 4,
 "nbformat_minor": 2
}
