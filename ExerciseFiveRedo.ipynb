{
 "cells": [
  {
   "cell_type": "markdown",
   "source": [
    "\r\n",
    "<title>Stage One: Import Libraries / Data<title>\r\n",
    "First, we import all necessary libraries. To adjust this workflow, change the contents of the variable file_name below to the name of your CSV file. Make sure the file is co-located (stored in the same folder) with your notebook to use the formatting as written."
   ],
   "metadata": {}
  },
  {
   "cell_type": "markdown",
   "source": [
    "\r\n",
    "<font size=\"5\">Stage One: Import Libraries / Data</font>\r\n",
    "\r\n",
    "First, we import all necessary libraries. To adjust this workflow, change the contents of the variable file_name below to the name of your CSV file. Make sure the file is co-located (stored in the same folder) with your notebook to use the formatting as written"
   ],
   "metadata": {}
  },
  {
   "cell_type": "code",
   "execution_count": null,
   "source": [],
   "outputs": [],
   "metadata": {}
  }
 ],
 "metadata": {
  "orig_nbformat": 4,
  "language_info": {
   "name": "python",
   "version": "3.8.8"
  },
  "kernelspec": {
   "name": "python3",
   "display_name": "Python 3.8.8 64-bit ('base': conda)"
  },
  "interpreter": {
   "hash": "513dc2e41d739bb2c947903f3c0bbf636d03aa53ab50e61c694a27481c81805e"
  }
 },
 "nbformat": 4,
 "nbformat_minor": 2
}