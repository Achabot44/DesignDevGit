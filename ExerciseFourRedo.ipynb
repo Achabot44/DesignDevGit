{
 "cells": [
  {
   "cell_type": "code",
   "execution_count": 1,
   "source": [
    "f = open('toyStoryReview.txt','r')\r\n",
    "fileText = str(f.read().lower())\r\n",
    "f.close()"
   ],
   "outputs": [],
   "metadata": {}
  },
  {
   "cell_type": "code",
   "execution_count": 2,
   "source": [
    "def preprocess_text(text):\r\n",
    "    import re\r\n",
    "    return re.compile(r'\\W+', re.UNICODE).split(text)\r\n",
    "\r\n",
    "word_bag = preprocess_text(fileText)\r\n",
    "print(word_bag[0:50])"
   ],
   "outputs": [
    {
     "output_type": "stream",
     "name": "stdout",
     "text": [
      "['', 'donald', 'clarke', 'irish', 'times', 'dec', '10', '2019', 'not', 'absolute', 'top', 'flight', 'pixar', 'no', 'embarrassment', 'either', 'full', 'review', 'original', 'score', '3', '5', 'ben', 'sachs', 'chicago', 'reader', 'dec', '10', '2019', 'pixar', 'by', 'the', 'numbers', 'this', 'third', 'and', 'largely', 'unnecessary', 'sequel', 'to', 'toy', 'story', 'delivers', 'everything', 'you', 'd', 'expect', 'from', 'the', 'animation']\n"
     ]
    }
   ],
   "metadata": {}
  },
  {
   "cell_type": "code",
   "execution_count": 5,
   "source": [
    "stop_words = ['a','is','the','and','the','that','as','it','as','to','of','review',\"its\"]\r\n",
    "\r\n",
    "def removeStopWords(word_bag, stop_words):\r\n",
    "    return [w for w in word_bag if w not in stop_words]\r\n",
    "\r\n",
    "cleaned_words = removeStopWords(word_bag, stop_words)\r\n",
    "\r\n",
    "print(cleaned_words[0:50])"
   ],
   "outputs": [
    {
     "output_type": "stream",
     "name": "stdout",
     "text": [
      "['', 'donald', 'clarke', 'irish', 'times', 'dec', '10', '2019', 'not', 'absolute', 'top', 'flight', 'pixar', 'no', 'embarrassment', 'either', 'full', 'original', 'score', '3', '5', 'ben', 'sachs', 'chicago', 'reader', 'dec', '10', '2019', 'pixar', 'by', 'numbers', 'this', 'third', 'largely', 'unnecessary', 'sequel', 'toy', 'story', 'delivers', 'everything', 'you', 'd', 'expect', 'from', 'animation', 'studio', 'minus', 'warmth', 'wit', 'dread']\n"
     ]
    }
   ],
   "metadata": {}
  },
  {
   "cell_type": "code",
   "execution_count": 6,
   "source": [
    "def wordsToDictionary(word_bag):\r\n",
    "    word_freq = [word_bag.count(word) for word in word_bag]\r\n",
    "    return dict(list(zip(word_bag,word_freq)))\r\n",
    "\r\n",
    "dict_words = wordsToDictionary(cleaned_words)\r\n",
    "\r\n",
    "print(dict_words)"
   ],
   "outputs": [
    {
     "output_type": "stream",
     "name": "stdout",
     "text": [
      "{'': 2, 'donald': 1, 'clarke': 1, 'irish': 1, 'times': 1, 'dec': 3, '10': 3, '2019': 20, 'not': 1, 'absolute': 1, 'top': 1, 'flight': 1, 'pixar': 4, 'no': 1, 'embarrassment': 1, 'either': 1, 'full': 20, 'original': 12, 'score': 12, '3': 4, '5': 10, 'ben': 1, 'sachs': 1, 'chicago': 1, 'reader': 2, 'by': 1, 'numbers': 2, 'this': 4, 'third': 1, 'largely': 1, 'unnecessary': 1, 'sequel': 1, 'toy': 12, 'story': 13, 'delivers': 1, 'everything': 1, 'you': 2, 'd': 2, 'expect': 1, 'from': 1, 'animation': 1, 'studio': 1, 'minus': 1, 'warmth': 1, 'wit': 1, 'dread': 1, 'dowd': 1, 'av': 1, 'club': 1, '4': 13, 'so': 2, 'fast': 1, 'light': 1, 'on': 1, 'feet': 1, 's': 19, 'easy': 1, 'ignore': 1, 'pretty': 1, 'minor': 1, 'adventure': 2, 'b': 3, 'scott': 1, 'marks': 1, 'san': 1, 'diego': 1, 'jul': 1, '9': 1, 'why': 1, 'need': 1, 'for': 3, 'part': 1, 'there': 2, 'are': 2, 'new': 4, 'characters': 2, 'merchandise': 1, '2': 3, 'stephen': 1, 'romei': 1, 'australian': 1, 'jun': 16, '28': 2, 'fourth': 2, 'directorial': 1, 'debut': 1, 'american': 1, 'animator': 1, 'screenwriter': 1, 'voice': 1, 'actor': 1, 'josh': 2, 'cooley': 3, 'he': 2, 'does': 1, 'his': 1, 'best': 1, 'with': 7, 'what': 1, 'has': 4, 'but': 5, 'script': 1, 'lacks': 1, 'spark': 1, 'udita': 1, 'jhunjhunwala': 1, 'livemint': 1, 'been': 1, 'winning': 1, 'warming': 1, 'hearts': 1, 'since': 1, '1995': 1, 'debutant': 1, 'director': 1, 'takes': 1, 'charge': 1, 'instalment': 1, 'which': 2, 'boasts': 1, 'exemplary': 1, 'digital': 1, 'artistry': 1, 'esther': 1, 'zuckerman': 1, 'thrillist': 1, '27': 1, 'gag': 1, 'minute': 1, 'filmmaking': 1, 'zany': 1, 'looney': 1, 'tunes': 1, 'energy': 1, 'covers': 1, 'lot': 2, 'plot': 1, 'at': 1, 'brisk': 1, 'pace': 1, 'michael': 1, 'sragow': 1, 'film': 7, 'comment': 1, 'magazine': 2, '24': 2, 'must': 1, 'see': 1, 'beauty': 1, 'drollery': 1, 'charm': 1, 'when': 1, 'comes': 1, 'boomerang': 1, 'maneuver': 1, 'all': 2, 'got': 1, 'max': 1, 'weiss': 1, 'baltimore': 1, 'yet': 1, 'another': 1, 'funny': 2, 'heartwarming': 1, 'uncommonly': 1, 'wise': 1, 'chapter': 1, 'in': 4, 'enduring': 1, 'series': 1, 'anthony': 1, 'lane': 1, 'yorker': 1, '23': 3, 'quickens': 1, 'deepens': 1, 'matthew': 2, 'norman': 1, 'london': 1, 'evening': 1, 'standard': 1, 'good': 3, 'criminal': 1, 'legislation': 1, 'flouts': 1, 'law': 1, 'diminishing': 1, 'returns': 1, 'governs': 1, 'movies': 1, 'after': 1, 'their': 1, 'names': 1, 'rozsa': 1, 'salon': 1, 'com': 2, 'latest': 1, 'installment': 1, 'perhaps': 1, 'bleakest': 1, 'most': 1, 'beautiful': 1, 'them': 2, 'wenlei': 1, 'ma': 1, 'news': 2, 'au': 1, '21': 6, 'proves': 1, 'once': 1, 'again': 1, 'still': 2, 'life': 2, 'left': 1, 'charming': 1, 'smart': 1, 'franchise': 2, 'mark': 2, 'kermode': 2, 'amp': 1, 'mayo': 1, '39': 1, 'i': 2, 'think': 2, 'standalone': 1, 'itself': 1, 'really': 1, 'validity': 1, 'own': 1, 'should': 2, 'be': 3, 'done': 1, 'now': 1, 'roxana': 1, 'hadadi': 1, 'pajiba': 1, 'undergoes': 1, 'meta': 1, 'treatment': 1, 'works': 1, 'beautifully': 1, 'resonates': 1, 'emotionally': 2, 'finally': 1, 'wrap': 1, 'up': 1, 'steven': 1, 'greydanus': 1, 'national': 1, 'catholic': 1, 'register': 1, 'incredibles': 1, 'finding': 2, 'dory': 1, 'slick': 1, 'inventive': 2, 'enough': 2, 'make': 1, 'time': 1, 'spent': 1, 'old': 2, 'friends': 2, 'pass': 1, 'quickly': 1, 'warmly': 1, 'plenty': 1, 'laughs': 1, 'well': 1, 'few': 1, 'tears': 1, 'peter': 1, 'rainer': 1, 'christian': 1, 'science': 1, 'monitor': 1, 'doesn': 1, 't': 2, 'put': 1, 'through': 1, 'emotional': 1, 'wringer': 1, 'way': 1, 'predecessor': 1, 'did': 1, 'consistently': 1, 'witty': 1, 'heartfelt': 1, 'other': 1, 'words': 1, 'better': 1, 'than': 3, 'any': 1, 'right': 1, 'more': 1, 'justify': 1, 'existence': 1, 'adam': 1, 'graham': 1, 'detroit': 1, 'your': 3, 'purpose': 2, 'embracing': 1, 'destiny': 1, 'accepting': 1, 'mortality': 1, 'mature': 1, 'themes': 1, 'children': 1, 'handles': 1, 'nimbly': 1, 'while': 1, 'managing': 1, 'colorful': 1, 'family': 1, 'daniell': 1, 'toronto': 1, 'sun': 1, '20': 2, 'achieves': 1, 'near': 1, 'impossible': 1, 'an': 1, 'rewarding': 1, 'joyfully': 1, 'reintroduces': 1, 'alongside': 1, 'roster': 1, 'engaging': 1, 'joe': 1, 'morgenstern': 1, 'wall': 1, 'street': 1, 'journal': 1, 'isn': 1, 'flawless': 1, 'hugely': 1, 'enjoyable': 1, 'speaks': 1, 'bewitching': 1, 'buoyancy': 1, 'nothing': 1, 'less': 1, 'living': 1, 'mystery': 1, 'prev': 1, 'next': 1}\n"
     ]
    }
   ],
   "metadata": {}
  },
  {
   "cell_type": "code",
   "execution_count": 8,
   "source": [
    "# Finally, explore what you can learn from this dictionary. Try: \r\n",
    "# A. Sorting your dictionary using our prebuilt method\r\n",
    "def sortDictionary(words):\r\n",
    "    aux = [(words[key], key) for key in words]\r\n",
    "    aux.sort()\r\n",
    "    aux.reverse()\r\n",
    "    return aux\r\n",
    "\r\n",
    "sort_dict = sortDictionary(dict_words)\r\n",
    "\r\n",
    "# B. Printing the top five most frequent words from your data\r\n",
    "x = 0\r\n",
    "for pair in sort_dict:\r\n",
    "    print(str(pair))\r\n",
    "    x += 1\r\n",
    "    if x==4:\r\n",
    "        break\r\n",
    "\r\n",
    "# C. Querying for certain key words and printing their frequency\r\n",
    "\r\n",
    "print(\"Original frequency: \" + str(dict_words.get(\"original\")))\r\n",
    "print(\"Adventure frequency: \" + str(dict_words.get(\"adventure\")))\r\n",
    "\r\n",
    "# D. Comparing the relative frequency of words of interest\r\n",
    "\r\n",
    "def compare_words(word_one, word_two):\r\n",
    "    if not word_one in dict_words or not word_two in dict_words:\r\n",
    "       print(\"Word(s) not found\")\r\n",
    "    elif dict_words[word_one] >  dict_words[word_two]:\r\n",
    "        print(word_one + \" appeared more often\")\r\n",
    "    elif dict_words[word_two] >  dict_words[word_one]:\r\n",
    "        print(word_two + \" appeared more often\") \r\n",
    "    else:\r\n",
    "        print(\"Words occurred with equal frequency\")\r\n",
    "\r\n",
    "compare_words(\"original\",\"adventure\")\r\n",
    "compare_words(\"joyfully\",\"heartwarming\")\r\n",
    "compare_words(\"purpose\",\"destiny\")"
   ],
   "outputs": [
    {
     "output_type": "stream",
     "name": "stdout",
     "text": [
      "(20, 'full')\n",
      "(20, '2019')\n",
      "(19, 's')\n",
      "(16, 'jun')\n",
      "Original frequency: 12\n",
      "Adventure frequency: 2\n",
      "original appeared more often\n",
      "Words occurred with equal frequency\n",
      "purpose appeared more often\n"
     ]
    }
   ],
   "metadata": {}
  }
 ],
 "metadata": {
  "orig_nbformat": 4,
  "language_info": {
   "name": "python",
   "version": "3.8.8",
   "mimetype": "text/x-python",
   "codemirror_mode": {
    "name": "ipython",
    "version": 3
   },
   "pygments_lexer": "ipython3",
   "nbconvert_exporter": "python",
   "file_extension": ".py"
  },
  "kernelspec": {
   "name": "python3",
   "display_name": "Python 3.8.8 64-bit ('base': conda)"
  },
  "interpreter": {
   "hash": "513dc2e41d739bb2c947903f3c0bbf636d03aa53ab50e61c694a27481c81805e"
  }
 },
 "nbformat": 4,
 "nbformat_minor": 2
}