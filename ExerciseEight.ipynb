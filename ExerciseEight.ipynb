{
 "cells": [
  {
   "cell_type": "code",
   "execution_count": 4,
   "metadata": {},
   "outputs": [
    {
     "name": "stdout",
     "output_type": "stream",
     "text": [
      "Year                 int64\n",
      "Audience            object\n",
      "Attendees            int64\n",
      "Program Location    object\n",
      "dtype: object\n"
     ]
    }
   ],
   "source": [
    "#Import your selected structured CSV data.\n",
    "\n",
    "import pandas as pd\n",
    "df = pd.read_csv('enviroEd.csv')\n",
    "print(df.dtypes)"
   ]
  },
  {
   "cell_type": "code",
   "execution_count": 5,
   "metadata": {},
   "outputs": [
    {
     "name": "stdout",
     "output_type": "stream",
     "text": [
      "   Year  Attendees\n",
      "0  2019         30\n",
      "1  2019       1040\n",
      "2  2019         54\n",
      "3  2019         95\n",
      "4  2019        225\n"
     ]
    }
   ],
   "source": [
    "print(df[['Year','Attendees']].head())"
   ]
  },
  {
   "cell_type": "code",
   "execution_count": 6,
   "metadata": {},
   "outputs": [
    {
     "data": {
      "text/html": [
       "<div>\n",
       "<style scoped>\n",
       "    .dataframe tbody tr th:only-of-type {\n",
       "        vertical-align: middle;\n",
       "    }\n",
       "\n",
       "    .dataframe tbody tr th {\n",
       "        vertical-align: top;\n",
       "    }\n",
       "\n",
       "    .dataframe thead th {\n",
       "        text-align: right;\n",
       "    }\n",
       "</style>\n",
       "<table border=\"1\" class=\"dataframe\">\n",
       "  <thead>\n",
       "    <tr style=\"text-align: right;\">\n",
       "      <th></th>\n",
       "      <th>Audience</th>\n",
       "      <th>Attendees</th>\n",
       "      <th>Program Location</th>\n",
       "    </tr>\n",
       "    <tr>\n",
       "      <th>Year</th>\n",
       "      <th></th>\n",
       "      <th></th>\n",
       "      <th></th>\n",
       "    </tr>\n",
       "  </thead>\n",
       "  <tbody>\n",
       "    <tr>\n",
       "      <th>2019</th>\n",
       "      <td>Adult Groups</td>\n",
       "      <td>30</td>\n",
       "      <td>Central Office</td>\n",
       "    </tr>\n",
       "    <tr>\n",
       "      <th>2019</th>\n",
       "      <td>Adult Groups</td>\n",
       "      <td>1040</td>\n",
       "      <td>Five Rivers</td>\n",
       "    </tr>\n",
       "    <tr>\n",
       "      <th>2019</th>\n",
       "      <td>Adult Groups</td>\n",
       "      <td>54</td>\n",
       "      <td>Region 1</td>\n",
       "    </tr>\n",
       "    <tr>\n",
       "      <th>2019</th>\n",
       "      <td>Adult Groups</td>\n",
       "      <td>95</td>\n",
       "      <td>Region 2</td>\n",
       "    </tr>\n",
       "    <tr>\n",
       "      <th>2019</th>\n",
       "      <td>Adult Groups</td>\n",
       "      <td>225</td>\n",
       "      <td>Regions 6/7/8</td>\n",
       "    </tr>\n",
       "  </tbody>\n",
       "</table>\n",
       "</div>"
      ],
      "text/plain": [
       "          Audience  Attendees Program Location\n",
       "Year                                          \n",
       "2019  Adult Groups         30   Central Office\n",
       "2019  Adult Groups       1040      Five Rivers\n",
       "2019  Adult Groups         54         Region 1\n",
       "2019  Adult Groups         95         Region 2\n",
       "2019  Adult Groups        225    Regions 6/7/8"
      ]
     },
     "execution_count": 6,
     "metadata": {},
     "output_type": "execute_result"
    }
   ],
   "source": [
    "#Use Pandas to note any preliminary trends in the CSV as a dataframe.\n",
    "df = pd.read_csv('enviroEd.csv')\n",
    "df = df.set_index('Year')\n",
    "df.head()"
   ]
  },
  {
   "cell_type": "code",
   "execution_count": 10,
   "metadata": {},
   "outputs": [
    {
     "data": {
      "text/plain": [
       "Year\n",
       "2018    1298\n",
       "2018      32\n",
       "2018     390\n",
       "2018    1016\n",
       "2018    4951\n",
       "Name: Attendees, dtype: int64"
      ]
     },
     "execution_count": 10,
     "metadata": {},
     "output_type": "execute_result"
    }
   ],
   "source": [
    "#Use Pandas to note any preliminary trends in the CSV as a dataframe.\n",
    "\n",
    "df.loc[2018, 'Attendees'].head()"
   ]
  },
  {
   "cell_type": "code",
   "execution_count": 15,
   "metadata": {},
   "outputs": [
    {
     "data": {
      "text/html": [
       "<div>\n",
       "<style scoped>\n",
       "    .dataframe tbody tr th:only-of-type {\n",
       "        vertical-align: middle;\n",
       "    }\n",
       "\n",
       "    .dataframe tbody tr th {\n",
       "        vertical-align: top;\n",
       "    }\n",
       "\n",
       "    .dataframe thead th {\n",
       "        text-align: right;\n",
       "    }\n",
       "</style>\n",
       "<table border=\"1\" class=\"dataframe\">\n",
       "  <thead>\n",
       "    <tr style=\"text-align: right;\">\n",
       "      <th></th>\n",
       "      <th>Audience</th>\n",
       "      <th>Attendees</th>\n",
       "      <th>Program Location</th>\n",
       "    </tr>\n",
       "    <tr>\n",
       "      <th>Year</th>\n",
       "      <th></th>\n",
       "      <th></th>\n",
       "      <th></th>\n",
       "    </tr>\n",
       "  </thead>\n",
       "  <tbody>\n",
       "    <tr>\n",
       "      <th>2019</th>\n",
       "      <td>Adult Groups</td>\n",
       "      <td>54</td>\n",
       "      <td>Region 1</td>\n",
       "    </tr>\n",
       "    <tr>\n",
       "      <th>2019</th>\n",
       "      <td>Day in the Life</td>\n",
       "      <td>323</td>\n",
       "      <td>Region 1</td>\n",
       "    </tr>\n",
       "    <tr>\n",
       "      <th>2019</th>\n",
       "      <td>Educator Support</td>\n",
       "      <td>328</td>\n",
       "      <td>Region 1</td>\n",
       "    </tr>\n",
       "    <tr>\n",
       "      <th>2019</th>\n",
       "      <td>Envirothon</td>\n",
       "      <td>190</td>\n",
       "      <td>Region 1</td>\n",
       "    </tr>\n",
       "    <tr>\n",
       "      <th>2019</th>\n",
       "      <td>Fairs &amp; Fesitvals</td>\n",
       "      <td>23942</td>\n",
       "      <td>Region 1</td>\n",
       "    </tr>\n",
       "  </tbody>\n",
       "</table>\n",
       "</div>"
      ],
      "text/plain": [
       "               Audience  Attendees Program Location\n",
       "Year                                               \n",
       "2019       Adult Groups         54         Region 1\n",
       "2019    Day in the Life        323         Region 1\n",
       "2019   Educator Support        328         Region 1\n",
       "2019         Envirothon        190         Region 1\n",
       "2019  Fairs & Fesitvals      23942         Region 1"
      ]
     },
     "execution_count": 15,
     "metadata": {},
     "output_type": "execute_result"
    }
   ],
   "source": [
    "#Use \"group by\" to break down at least two different subsets of data.\n",
    "\n",
    "location = df.groupby('Program Location')\n",
    "location.get_group('Region 1').head()"
   ]
  },
  {
   "cell_type": "code",
   "execution_count": 20,
   "metadata": {},
   "outputs": [
    {
     "data": {
      "text/plain": [
       "Program Location\n",
       "Camps                                 1404.666667\n",
       "Central Office                         803.388889\n",
       "Five Rivers                           6610.704225\n",
       "Five Rivers (no longer collected)        0.000000\n",
       "Region 1                              3280.771930\n",
       "Region 2                              1106.062500\n",
       "Regions 6/7/8                        15802.952381\n",
       "Reinstein                            16561.259740\n",
       "Reinstein (no longer collected)          0.000000\n",
       "Name: Attendees, dtype: float64"
      ]
     },
     "execution_count": 20,
     "metadata": {},
     "output_type": "execute_result"
    }
   ],
   "source": [
    "#Use \"group by\" to break down at least two different subsets of data.\n",
    "# I know now how simple this step seems, but it took me a while to work through how to get both functional and usable data in this step.\n",
    "\n",
    "location['Attendees'].mean()\n"
   ]
  }
 ],
 "metadata": {
  "interpreter": {
   "hash": "513dc2e41d739bb2c947903f3c0bbf636d03aa53ab50e61c694a27481c81805e"
  },
  "kernelspec": {
   "display_name": "Python 3.8.11 64-bit ('base': conda)",
   "name": "python3"
  },
  "language_info": {
   "codemirror_mode": {
    "name": "ipython",
    "version": 3
   },
   "file_extension": ".py",
   "mimetype": "text/x-python",
   "name": "python",
   "nbconvert_exporter": "python",
   "pygments_lexer": "ipython3",
   "version": "3.8.11"
  },
  "orig_nbformat": 4
 },
 "nbformat": 4,
 "nbformat_minor": 2
}
