{
 "cells": [
  {
   "cell_type": "code",
   "execution_count": null,
   "metadata": {},
   "outputs": [],
   "source": [
    "#Import the current version of the file (available for download at the link above), and isolate the columns of interest based on the variables you want to include\n",
    "#Using the variable navigator provided by GSS, determine the years applicable and narrow your dataset accordingly.\n",
    "\n",
    "import pandas as pd\n",
    "\n",
    "# we restrict this (very large) dataset to the variables of interest\n",
    "columns = ['year', 'YEARSJOB', 'WAYPAID', 'WRKSHED', 'MOREDAYS', 'MUSTWORK', 'FAMWKOFF', 'WKVSFAM', 'HRSRELAX', 'SECONDWK', 'ALIENAT1', 'ALIENAT2', 'ALIENAT3', 'ALIENAT4', 'ALIENAT5', 'ALIENAT6']\n",
    "df = pd.read_stata(\"GSS7218_R1.dta\", columns=columns)\n",
    "\n",
    "# further limit dataset to the years we are interested in\n",
    "df = df.loc[df['year'].isin({2006, 2014, 2018})]\n",
    "print(df.head)"
   ]
  }
 ],
 "metadata": {
  "language_info": {
   "name": "python"
  },
  "orig_nbformat": 4
 },
 "nbformat": 4,
 "nbformat_minor": 2
}
