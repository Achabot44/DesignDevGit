{
 "cells": [
  {
   "cell_type": "code",
   "execution_count": 41,
   "metadata": {},
   "outputs": [
    {
     "name": "stdout",
     "output_type": "stream",
     "text": [
      "<bound method NDFrame.head of          id  year yearsjob   race  realrinc moredays mustwork  \\\n",
      "46510     1  2006    15.00  black  18476.25      0.0       no   \n",
      "46511     2  2006     9.00  other  38373.75     20.0      yes   \n",
      "46512     3  2006      NaN  white       NaN      NaN      NaN   \n",
      "46513     4  2006     0.75  black   1137.00      6.0      yes   \n",
      "46514     5  2006      NaN  black       NaN      NaN      NaN   \n",
      "...     ...   ...      ...    ...       ...      ...      ...   \n",
      "64809  2344  2018     2.00  white       NaN      4.0       no   \n",
      "64810  2345  2018     2.00  white   7377.50      1.0       no   \n",
      "64811  2346  2018      NaN  white   1589.00      NaN      NaN   \n",
      "64812  2347  2018      NaN  white       NaN      NaN      NaN   \n",
      "64813  2348  2018      NaN  white       NaN      NaN      NaN   \n",
      "\n",
      "              famwkoff    wkvsfam hrsrelax secondwk compwage buyvalue  \\\n",
      "46510     Not too hard     Rarely      1.0       no      2.0      NaN   \n",
      "46511    Somewhat hard      Never      1.0       no      3.0      NaN   \n",
      "46512              NaN        NaN      NaN      NaN      NaN      NaN   \n",
      "46513  Not at all hard      Never      7.0       no      3.0      NaN   \n",
      "46514              NaN        NaN      NaN      NaN      NaN      NaN   \n",
      "...                ...        ...      ...      ...      ...      ...   \n",
      "64809    Somewhat hard  Sometimes      4.0       no      2.0      NaN   \n",
      "64810     Not too hard     Rarely      5.0       no      3.0      NaN   \n",
      "64811              NaN        NaN      NaN      NaN      NaN      NaN   \n",
      "64812              NaN        NaN      NaN      NaN      NaN      NaN   \n",
      "64813              NaN        NaN      NaN      NaN      NaN      NaN   \n",
      "\n",
      "                     wealth  \n",
      "46510      Less than $5,000  \n",
      "46511  $250,000 to $500,000  \n",
      "46512                   NaN  \n",
      "46513  $150,000 to $250,000  \n",
      "46514                   NaN  \n",
      "...                     ...  \n",
      "64809                   NaN  \n",
      "64810  $100,000 to $150,000  \n",
      "64811                   NaN  \n",
      "64812                   NaN  \n",
      "64813                   NaN  \n",
      "\n",
      "[9396 rows x 14 columns]>\n"
     ]
    }
   ],
   "source": [
    "#Import the current version of the file (available for download at the link above), and isolate the columns of interest based on the variables you want to include\n",
    "#Using the variable navigator provided by GSS, determine the years applicable and narrow your dataset accordingly.\n",
    "\n",
    "import pandas as pd\n",
    "\n",
    "columns = ['id', 'year', 'yearsjob', 'race', 'realrinc', 'moredays', 'mustwork', 'famwkoff', 'wkvsfam', 'hrsrelax', 'secondwk', 'compwage', 'buyvalue', 'wealth']\n",
    "df = pd.read_stata(\"GSS7218_R1.dta\", columns=columns)\n",
    "\n",
    "#limiting dataset to the years we are interested in\n",
    "df = df.loc[df['year'].isin({2006, 2014, 2018})]\n",
    "print(df.head)"
   ]
  },
  {
   "cell_type": "code",
   "execution_count": 42,
   "metadata": {},
   "outputs": [
    {
     "name": "stdout",
     "output_type": "stream",
     "text": [
      "<bound method NDFrame.head of          id  year yearsjob   race  realrinc moredays mustwork  \\\n",
      "46563    54  2006     2.00  white  38373.75     20.0       no   \n",
      "46606    97  2006    12.00  white       NaN      5.0       no   \n",
      "46622   113  2006     2.00  black  56850.00      5.0       no   \n",
      "46646   137  2006    13.00  white  46901.25     20.0      yes   \n",
      "46647   138  2006     0.75  other       NaN      4.0       no   \n",
      "...     ...   ...      ...    ...       ...      ...      ...   \n",
      "64700  2235  2018    10.00  white  12485.00      0.0       no   \n",
      "64714  2249  2018     3.00  white   7377.50      4.0       no   \n",
      "64741  2276  2018     0.25  black    908.00      3.0      yes   \n",
      "64780  2315  2018     4.00  white  17025.00      8.0       no   \n",
      "64805  2340  2018    11.00  white  14755.00     10.0       no   \n",
      "\n",
      "              famwkoff    wkvsfam hrsrelax secondwk  compwage buyvalue  \\\n",
      "46563  Not at all hard      Often      3.0       no       3.0     80.0   \n",
      "46606  Not at all hard      Often      2.0       no       3.0    100.0   \n",
      "46622     Not too hard      Often     10.0       no   1 Lower      1.0   \n",
      "46646    Somewhat hard  Sometimes      1.0       no       3.0    100.0   \n",
      "46647  Not at all hard  Sometimes      4.0       no  5 Higher    100.0   \n",
      "...                ...        ...      ...      ...       ...      ...   \n",
      "64700     Not too hard      Often      NaN       no       3.0      0.0   \n",
      "64714    Somewhat hard     Rarely      2.0       no       3.0      0.0   \n",
      "64741     Not too hard     Rarely      3.0      yes       2.0      6.0   \n",
      "64780  Not at all hard     Rarely      8.0       no       4.0     50.0   \n",
      "64805     Not too hard  Sometimes      2.0      yes       4.0     50.0   \n",
      "\n",
      "                       wealth  \n",
      "46563        Less than $5,000  \n",
      "46606                     NaN  \n",
      "46622  $500,000 to $1 million  \n",
      "46646    $250,000 to $500,000  \n",
      "46647    $250,000 to $500,000  \n",
      "...                       ...  \n",
      "64700                     NaN  \n",
      "64714    $100,000 to $150,000  \n",
      "64741  $500,000 to $1 million  \n",
      "64780        Less than $5,000  \n",
      "64805    $150,000 to $250,000  \n",
      "\n",
      "[461 rows x 14 columns]>\n"
     ]
    }
   ],
   "source": [
    "# limit dataset to exclude records from individuals who refused\n",
    "# to report their investment in company stock\n",
    "df = df.loc[df['buyvalue'].notnull()]\n",
    "print(df.head)"
   ]
  },
  {
   "cell_type": "code",
   "execution_count": 43,
   "metadata": {},
   "outputs": [
    {
     "name": "stdout",
     "output_type": "stream",
     "text": [
      "<bound method NDFrame.head of          id  year yearsjob   race  realrinc moredays mustwork  \\\n",
      "46563    54  2006     2.00  white  38373.75     20.0       no   \n",
      "46622   113  2006     2.00  black  56850.00      5.0       no   \n",
      "46646   137  2006    13.00  white  46901.25     20.0      yes   \n",
      "46647   138  2006     0.75  other       NaN      4.0       no   \n",
      "46655   146  2006     6.00  white  18476.25      5.0       no   \n",
      "...     ...   ...      ...    ...       ...      ...      ...   \n",
      "64682  2217  2018    15.00  white  37455.00      2.0       no   \n",
      "64714  2249  2018     3.00  white   7377.50      4.0       no   \n",
      "64741  2276  2018     0.25  black    908.00      3.0      yes   \n",
      "64780  2315  2018     4.00  white  17025.00      8.0       no   \n",
      "64805  2340  2018    11.00  white  14755.00     10.0       no   \n",
      "\n",
      "              famwkoff    wkvsfam hrsrelax secondwk  compwage buyvalue  \\\n",
      "46563  Not at all hard      Often      3.0       no       3.0     80.0   \n",
      "46622     Not too hard      Often     10.0       no   1 Lower      1.0   \n",
      "46646    Somewhat hard  Sometimes      1.0       no       3.0    100.0   \n",
      "46647  Not at all hard  Sometimes      4.0       no  5 Higher    100.0   \n",
      "46655  Not at all hard  Sometimes      2.0       no       4.0     50.0   \n",
      "...                ...        ...      ...      ...       ...      ...   \n",
      "64682    Somewhat hard      Often      2.0       no       2.0     50.0   \n",
      "64714    Somewhat hard     Rarely      2.0       no       3.0      0.0   \n",
      "64741     Not too hard     Rarely      3.0      yes       2.0      6.0   \n",
      "64780  Not at all hard     Rarely      8.0       no       4.0     50.0   \n",
      "64805     Not too hard  Sometimes      2.0      yes       4.0     50.0   \n",
      "\n",
      "                       wealth  \n",
      "46563        Less than $5,000  \n",
      "46622  $500,000 to $1 million  \n",
      "46646    $250,000 to $500,000  \n",
      "46647    $250,000 to $500,000  \n",
      "46655  $500,000 to $1 million  \n",
      "...                       ...  \n",
      "64682    $250,000 to $500,000  \n",
      "64714    $100,000 to $150,000  \n",
      "64741  $500,000 to $1 million  \n",
      "64780        Less than $5,000  \n",
      "64805    $150,000 to $250,000  \n",
      "\n",
      "[422 rows x 14 columns]>\n"
     ]
    }
   ],
   "source": [
    "# limit dataset to exclude records from individuals who refused\n",
    "# to report their investment in company stock\n",
    "df = df.loc[df['wealth'].notnull()]\n",
    "print(df.head)"
   ]
  }
 ],
 "metadata": {
  "interpreter": {
   "hash": "513dc2e41d739bb2c947903f3c0bbf636d03aa53ab50e61c694a27481c81805e"
  },
  "kernelspec": {
   "display_name": "Python 3.8.11 64-bit ('base': conda)",
   "name": "python3"
  },
  "language_info": {
   "codemirror_mode": {
    "name": "ipython",
    "version": 3
   },
   "file_extension": ".py",
   "mimetype": "text/x-python",
   "name": "python",
   "nbconvert_exporter": "python",
   "pygments_lexer": "ipython3",
   "version": "3.8.11"
  },
  "orig_nbformat": 4
 },
 "nbformat": 4,
 "nbformat_minor": 2
}
