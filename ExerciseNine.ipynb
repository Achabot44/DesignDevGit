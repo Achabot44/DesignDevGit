{
 "cells": [
  {
   "cell_type": "code",
   "execution_count": null,
   "metadata": {},
   "outputs": [],
   "source": [
    "#Import the current version of the file (available for download at the link above), and isolate the columns of interest based on the variables you want to include\n",
    "#Using the variable navigator provided by GSS, determine the years applicable and narrow your dataset accordingly.\n",
    "\n"
   ]
  }
 ],
 "metadata": {
  "language_info": {
   "name": "python"
  },
  "orig_nbformat": 4
 },
 "nbformat": 4,
 "nbformat_minor": 2
}
