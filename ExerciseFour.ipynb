{
 "cells": [
  {
   "cell_type": "code",
   "execution_count": 6,
   "source": [
    "# For this exercise, you should start by reading in the text file produced from Exercise Three. This text file should already have the HTML code elements removed, and primarily consist of text and other characters that we will remove through our processing. Store the input of your file in a string, and convert the contents to lower case for consistency.\r\n",
    "f = open('toyStoryReview.txt', 'r')\r\n",
    "text = f.read()\r\n",
    "f.close()\r\n",
    "\r\n",
    "word_bag = text.split()\r\n",
    "print(word_bag[0:100])"
   ],
   "outputs": [
    {
     "output_type": "stream",
     "name": "stdout",
     "text": [
      "['Donald', 'Clarke', 'Irish', 'Times', 'Dec', '10,', '2019', 'Not', 'absolute', 'top-flight', 'Pixar.', 'No', 'embarrassment', 'either.', 'Full', 'Review', '|', 'Original', 'Score:', '3/5', 'Ben', 'Sachs', 'Chicago', 'Reader', 'Dec', '10,', '2019', 'Pixar', 'by', 'the', 'numbers,', 'this', 'third', 'and', 'largely', 'unnecessary', 'sequel', 'to', 'Toy', 'Story', 'delivers', 'everything', \"you\\\\'d\", 'expect', 'from', 'the', 'animation', 'studio,', 'minus', 'the', 'warmth,', 'wit,', 'and', 'dread.', 'Full', 'Review', 'A.A.', 'Dowd', 'AV', 'Club', 'Dec', '10,', '2019', 'Toy', 'Story', '4', 'is', 'so', 'fast', 'and', 'light', 'on', 'its', 'feet', 'that', \"it\\\\'s\", 'easy', 'to', 'ignore', 'that', \"it\\\\'s\", 'a', 'pretty', 'minor', 'adventure.', 'Full', 'Review', '|', 'Original', 'Score:', 'B', 'Scott', 'Marks', 'San', 'Diego', 'Reader', 'Jul', '9,', '2019', 'Why']\n"
     ]
    }
   ],
   "metadata": {}
  },
  {
   "cell_type": "code",
   "execution_count": 8,
   "source": [
    "#convert the contents to lower case for consistency.\r\n",
    "text = text.lower()\r\n",
    "word_bag = text.split()\r\n",
    "print(word_bag[0:100])"
   ],
   "outputs": [
    {
     "output_type": "stream",
     "name": "stdout",
     "text": [
      "['donald', 'clarke', 'irish', 'times', 'dec', '10,', '2019', 'not', 'absolute', 'top-flight', 'pixar.', 'no', 'embarrassment', 'either.', 'full', 'review', '|', 'original', 'score:', '3/5', 'ben', 'sachs', 'chicago', 'reader', 'dec', '10,', '2019', 'pixar', 'by', 'the', 'numbers,', 'this', 'third', 'and', 'largely', 'unnecessary', 'sequel', 'to', 'toy', 'story', 'delivers', 'everything', \"you\\\\'d\", 'expect', 'from', 'the', 'animation', 'studio,', 'minus', 'the', 'warmth,', 'wit,', 'and', 'dread.', 'full', 'review', 'a.a.', 'dowd', 'av', 'club', 'dec', '10,', '2019', 'toy', 'story', '4', 'is', 'so', 'fast', 'and', 'light', 'on', 'its', 'feet', 'that', \"it\\\\'s\", 'easy', 'to', 'ignore', 'that', \"it\\\\'s\", 'a', 'pretty', 'minor', 'adventure.', 'full', 'review', '|', 'original', 'score:', 'b', 'scott', 'marks', 'san', 'diego', 'reader', 'jul', '9,', '2019', 'why']\n"
     ]
    }
   ],
   "metadata": {}
  },
  {
   "cell_type": "code",
   "execution_count": 10,
   "source": [
    "\r\n",
    "# This week, we'll be using functions that we've already defined in our exercises. Try looking back through your code and notes from class. Our first step is to import the regular expressions module and remove all non-alpha-numeric characters from the string, then save the string as an array of words ready for processing. (Use the code in NormalizingText for reference)\r\n",
    "f = open('toyStoryReview.txt', 'r')\r\n",
    "text = f.read()\r\n",
    "f.close()\r\n",
    "\r\n",
    "text = text.lower()\r\n",
    "import re\r\n",
    "word_bag = re.compile(r'\\W+', re.UNICODE).split(text)\r\n",
    "print(word_bag[0:1000])"
   ],
   "outputs": [
    {
     "output_type": "stream",
     "name": "stdout",
     "text": [
      "['', 'donald', 'clarke', 'irish', 'times', 'dec', '10', '2019', 'not', 'absolute', 'top', 'flight', 'pixar', 'no', 'embarrassment', 'either', 'full', 'review', 'original', 'score', '3', '5', 'ben', 'sachs', 'chicago', 'reader', 'dec', '10', '2019', 'pixar', 'by', 'the', 'numbers', 'this', 'third', 'and', 'largely', 'unnecessary', 'sequel', 'to', 'toy', 'story', 'delivers', 'everything', 'you', 'd', 'expect', 'from', 'the', 'animation', 'studio', 'minus', 'the', 'warmth', 'wit', 'and', 'dread', 'full', 'review', 'a', 'a', 'dowd', 'av', 'club', 'dec', '10', '2019', 'toy', 'story', '4', 'is', 'so', 'fast', 'and', 'light', 'on', 'its', 'feet', 'that', 'it', 's', 'easy', 'to', 'ignore', 'that', 'it', 's', 'a', 'pretty', 'minor', 'adventure', 'full', 'review', 'original', 'score', 'b', 'scott', 'marks', 'san', 'diego', 'reader', 'jul', '9', '2019', 'why', 'the', 'need', 'for', 'part', '4', 'there', 'are', 'new', 'characters', 'to', 'merchandise', 'full', 'review', 'original', 'score', '2', '5', 'stephen', 'romei', 'the', 'australian', 'jun', '28', '2019', 'this', 'fourth', 'toy', 'story', 'is', 'the', 'directorial', 'debut', 'of', 'american', 'animator', 'screenwriter', 'and', 'voice', 'actor', 'josh', 'cooley', 'he', 'does', 'his', 'best', 'with', 'what', 'he', 'has', 'but', 'the', 'script', 'lacks', 'spark', 'full', 'review', 'original', 'score', '2', '5', '5', 'udita', 'jhunjhunwala', 'livemint', 'jun', '28', '2019', 'toy', 'story', 'has', 'been', 'winning', 'and', 'warming', 'hearts', 'since', '1995', 'debutant', 'director', 'josh', 'cooley', 'takes', 'charge', 'of', 'this', 'fourth', 'instalment', 'which', 'boasts', 'exemplary', 'digital', 'artistry', 'full', 'review', 'esther', 'zuckerman', 'thrillist', 'jun', '27', '2019', 'it', 's', 'gag', 'a', 'minute', 'filmmaking', 'with', 'zany', 'looney', 'tunes', 'energy', 'that', 'covers', 'a', 'lot', 'of', 'plot', 'at', 'a', 'brisk', 'pace', 'full', 'review', 'michael', 'sragow', 'film', 'comment', 'magazine', 'jun', '24', '2019', 'toy', 'story', '4', 'is', 'a', 'must', 'see', 'for', 'its', 'beauty', 'drollery', 'and', 'charm', 'but', 'when', 'it', 'comes', 'to', 'the', 'story', 'the', 'boomerang', 'maneuver', 'is', 'all', 'it', 's', 'got', 'full', 'review', 'max', 'weiss', 'baltimore', 'magazine', 'jun', '24', '2019', 'yet', 'another', 'funny', 'heartwarming', 'and', 'uncommonly', 'wise', 'chapter', 'in', 'pixar', 's', 'enduring', 'film', 'series', 'full', 'review', 'original', 'score', '3', '5', '4', 'anthony', 'lane', 'new', 'yorker', 'jun', '23', '2019', 'cooley', 's', 'film', 'quickens', 'and', 'deepens', 'full', 'review', 'matthew', 'norman', 'london', 'evening', 'standard', 'jun', '23', '2019', 'toy', 'story', '4', 'is', 'so', 'good', 'it', 's', 'criminal', 'the', 'legislation', 'it', 'flouts', 'is', 'the', 'law', 'of', 'diminishing', 'returns', 'which', 'governs', 'movies', 'with', 'numbers', 'after', 'their', 'names', 'full', 'review', 'original', 'score', '5', '5', 'matthew', 'rozsa', 'salon', 'com', 'jun', '23', '2019', 'the', 'latest', 'installment', 'toy', 'story', '4', 'is', 'perhaps', 'the', 'bleakest', 'and', 'most', 'beautiful', 'of', 'them', 'all', 'full', 'review', 'original', 'score', '3', '5', '4', 'wenlei', 'ma', 'news', 'com', 'au', 'jun', '21', '2019', 'toy', 'story', '4', 'proves', 'once', 'again', 'that', 'there', 's', 'still', 'life', 'left', 'in', 'this', 'charming', 'and', 'smart', 'franchise', 'full', 'review', 'original', 'score', '3', '5', '5', 'mark', 'kermode', 'kermode', 'amp', 'mayo', '39', 's', 'film', 'review', 'jun', '21', '2019', 'i', 'think', 'it', 's', 'a', 'standalone', 'in', 'itself', 'i', 'think', 'it', 's', 'really', 'good', 'and', 'it', 'has', 'validity', 'of', 'its', 'own', 'and', 'it', 'should', 'be', 'done', 'now', 'full', 'review', 'roxana', 'hadadi', 'pajiba', 'jun', '21', '2019', 'toy', 'story', '4', 'undergoes', 'a', 'meta', 'treatment', 'that', 'works', 'beautifully', 'resonates', 'emotionally', 'and', 'should', 'finally', 'wrap', 'up', 'pixar', 's', 'toy', 'story', 'franchise', 'full', 'review', 'steven', 'd', 'greydanus', 'national', 'catholic', 'register', 'jun', '21', '2019', 'as', 'with', 'incredibles', '2', 'and', 'finding', 'dory', 'it', 's', 'slick', 'and', 'inventive', 'enough', 'to', 'make', 'time', 'spent', 'with', 'old', 'friends', 'pass', 'quickly', 'and', 'warmly', 'with', 'plenty', 'of', 'laughs', 'as', 'well', 'as', 'a', 'few', 'tears', 'full', 'review', 'original', 'score', 'b', 'peter', 'rainer', 'christian', 'science', 'monitor', 'jun', '21', '2019', 'it', 'doesn', 't', 'put', 'you', 'through', 'the', 'emotional', 'wringer', 'the', 'way', 'its', 'predecessor', 'did', 'but', 'it', 's', 'consistently', 'inventive', 'funny', 'witty', 'and', 'heartfelt', 'in', 'other', 'words', 'it', 's', 'a', 'lot', 'better', 'than', 'it', 'has', 'any', 'right', 'to', 'be', 'it', 's', 'more', 'than', 'good', 'enough', 'to', 'justify', 'its', 'existence', 'full', 'review', 'original', 'score', 'a', 'adam', 'graham', 'detroit', 'news', 'jun', '21', '2019', 'finding', 'your', 'purpose', 'embracing', 'your', 'destiny', 'and', 'accepting', 'your', 'mortality', 'are', 'mature', 'themes', 'for', 'a', 'children', 's', 'film', 'but', 'toy', 'story', '4', 'handles', 'them', 'nimbly', 'while', 'still', 'managing', 'to', 'be', 'a', 'colorful', 'family', 'adventure', 'full', 'review', 'original', 'score', 'b', 'mark', 'daniell', 'toronto', 'sun', 'jun', '20', '2019', 'toy', 'story', '4', 'achieves', 'the', 'near', 'impossible', 'it', 's', 'an', 'emotionally', 'rewarding', 'film', 'that', 'joyfully', 'reintroduces', 'old', 'friends', 'alongside', 'a', 'new', 'roster', 'of', 'engaging', 'characters', 'full', 'review', 'original', 'score', '4', '4', 'joe', 'morgenstern', 'wall', 'street', 'journal', 'jun', '20', '2019', 'the', 'new', 'film', 'isn', 't', 'flawless', 'but', 'it', 's', 'hugely', 'enjoyable', 'and', 'speaks', 'with', 'bewitching', 'buoyancy', 'to', 'nothing', 'less', 'than', 'the', 'purpose', 'of', 'living', 'and', 'the', 'mystery', 'of', 'life', 'full', 'review', 'prev', 'next', '']\n"
     ]
    }
   ],
   "metadata": {}
  },
  {
   "cell_type": "code",
   "execution_count": 36,
   "source": [
    "# Next, we'll use stop words to remove all the words that we don't want to include in our count. There are suggested words in this week's readings, but you can also generate a custom list based on your topic. Define the stop words in an array, and use a loop to remove any word in your bag of words that also appears on the stop words list (use the examples in Dictionaries for guidance.)\r\n",
    "stopwords = ['a','is','the','and','the','that','as','it','as','to','of','review']\r\n",
    "\r\n",
    "def removeStopWords(word_bag, stopwords):\r\n",
    "    return [w for w in word_bag if w not in stopwords]\r\n",
    "text = removeStopWords(text,stopwords)\r\n",
    "\r\n",
    "print(text)"
   ],
   "outputs": [
    {
     "output_type": "stream",
     "name": "stdout",
     "text": [
      "['', 'donald', 'clarke', 'irish', 'times', 'dec', '10', '2019', 'not', 'absolute', 'top', 'flight', 'pixar', 'no', 'embarrassment', 'either', 'full', 'original', 'score', '3', '5', 'ben', 'sachs', 'chicago', 'reader', 'dec', '10', '2019', 'pixar', 'by', 'numbers', 'this', 'third', 'largely', 'unnecessary', 'sequel', 'toy', 'story', 'delivers', 'everything', 'you', 'd', 'expect', 'from', 'animation', 'studio', 'minus', 'warmth', 'wit', 'dread', 'full', 'dowd', 'av', 'club', 'dec', '10', '2019', 'toy', 'story', '4', 'so', 'fast', 'light', 'on', 'its', 'feet', 's', 'easy', 'ignore', 's', 'pretty', 'minor', 'adventure', 'full', 'original', 'score', 'b', 'scott', 'marks', 'san', 'diego', 'reader', 'jul', '9', '2019', 'why', 'need', 'for', 'part', '4', 'there', 'are', 'new', 'characters', 'merchandise', 'full', 'original', 'score', '2', '5', 'stephen', 'romei', 'australian', 'jun', '28', '2019', 'this', 'fourth', 'toy', 'story', 'directorial', 'debut', 'american', 'animator', 'screenwriter', 'voice', 'actor', 'josh', 'cooley', 'he', 'does', 'his', 'best', 'with', 'what', 'he', 'has', 'but', 'script', 'lacks', 'spark', 'full', 'original', 'score', '2', '5', '5', 'udita', 'jhunjhunwala', 'livemint', 'jun', '28', '2019', 'toy', 'story', 'has', 'been', 'winning', 'warming', 'hearts', 'since', '1995', 'debutant', 'director', 'josh', 'cooley', 'takes', 'charge', 'this', 'fourth', 'instalment', 'which', 'boasts', 'exemplary', 'digital', 'artistry', 'full', 'esther', 'zuckerman', 'thrillist', 'jun', '27', '2019', 's', 'gag', 'minute', 'filmmaking', 'with', 'zany', 'looney', 'tunes', 'energy', 'covers', 'lot', 'plot', 'at', 'brisk', 'pace', 'full', 'michael', 'sragow', 'film', 'comment', 'magazine', 'jun', '24', '2019', 'toy', 'story', '4', 'must', 'see', 'for', 'its', 'beauty', 'drollery', 'charm', 'but', 'when', 'comes', 'story', 'boomerang', 'maneuver', 'all', 's', 'got', 'full', 'max', 'weiss', 'baltimore', 'magazine', 'jun', '24', '2019', 'yet', 'another', 'funny', 'heartwarming', 'uncommonly', 'wise', 'chapter', 'in', 'pixar', 's', 'enduring', 'film', 'series', 'full', 'original', 'score', '3', '5', '4', 'anthony', 'lane', 'new', 'yorker', 'jun', '23', '2019', 'cooley', 's', 'film', 'quickens', 'deepens', 'full', 'matthew', 'norman', 'london', 'evening', 'standard', 'jun', '23', '2019', 'toy', 'story', '4', 'so', 'good', 's', 'criminal', 'legislation', 'flouts', 'law', 'diminishing', 'returns', 'which', 'governs', 'movies', 'with', 'numbers', 'after', 'their', 'names', 'full', 'original', 'score', '5', '5', 'matthew', 'rozsa', 'salon', 'com', 'jun', '23', '2019', 'latest', 'installment', 'toy', 'story', '4', 'perhaps', 'bleakest', 'most', 'beautiful', 'them', 'all', 'full', 'original', 'score', '3', '5', '4', 'wenlei', 'ma', 'news', 'com', 'au', 'jun', '21', '2019', 'toy', 'story', '4', 'proves', 'once', 'again', 'there', 's', 'still', 'life', 'left', 'in', 'this', 'charming', 'smart', 'franchise', 'full', 'original', 'score', '3', '5', '5', 'mark', 'kermode', 'kermode', 'amp', 'mayo', '39', 's', 'film', 'jun', '21', '2019', 'i', 'think', 's', 'standalone', 'in', 'itself', 'i', 'think', 's', 'really', 'good', 'has', 'validity', 'its', 'own', 'should', 'be', 'done', 'now', 'full', 'roxana', 'hadadi', 'pajiba', 'jun', '21', '2019', 'toy', 'story', '4', 'undergoes', 'meta', 'treatment', 'works', 'beautifully', 'resonates', 'emotionally', 'should', 'finally', 'wrap', 'up', 'pixar', 's', 'toy', 'story', 'franchise', 'full', 'steven', 'd', 'greydanus', 'national', 'catholic', 'register', 'jun', '21', '2019', 'with', 'incredibles', '2', 'finding', 'dory', 's', 'slick', 'inventive', 'enough', 'make', 'time', 'spent', 'with', 'old', 'friends', 'pass', 'quickly', 'warmly', 'with', 'plenty', 'laughs', 'well', 'few', 'tears', 'full', 'original', 'score', 'b', 'peter', 'rainer', 'christian', 'science', 'monitor', 'jun', '21', '2019', 'doesn', 't', 'put', 'you', 'through', 'emotional', 'wringer', 'way', 'its', 'predecessor', 'did', 'but', 's', 'consistently', 'inventive', 'funny', 'witty', 'heartfelt', 'in', 'other', 'words', 's', 'lot', 'better', 'than', 'has', 'any', 'right', 'be', 's', 'more', 'than', 'good', 'enough', 'justify', 'its', 'existence', 'full', 'original', 'score', 'adam', 'graham', 'detroit', 'news', 'jun', '21', '2019', 'finding', 'your', 'purpose', 'embracing', 'your', 'destiny', 'accepting', 'your', 'mortality', 'are', 'mature', 'themes', 'for', 'children', 's', 'film', 'but', 'toy', 'story', '4', 'handles', 'them', 'nimbly', 'while', 'still', 'managing', 'be', 'colorful', 'family', 'adventure', 'full', 'original', 'score', 'b', 'mark', 'daniell', 'toronto', 'sun', 'jun', '20', '2019', 'toy', 'story', '4', 'achieves', 'near', 'impossible', 's', 'an', 'emotionally', 'rewarding', 'film', 'joyfully', 'reintroduces', 'old', 'friends', 'alongside', 'new', 'roster', 'engaging', 'characters', 'full', 'original', 'score', '4', '4', 'joe', 'morgenstern', 'wall', 'street', 'journal', 'jun', '20', '2019', 'new', 'film', 'isn', 't', 'flawless', 'but', 's', 'hugely', 'enjoyable', 'speaks', 'with', 'bewitching', 'buoyancy', 'nothing', 'less', 'than', 'purpose', 'living', 'mystery', 'life', 'full', 'prev', 'next', '']\n"
     ]
    }
   ],
   "metadata": {}
  },
  {
   "cell_type": "code",
   "execution_count": 35,
   "source": [
    "#Now we're ready to count our words, and move from an array to a dictionary. Using the functions we've already built in the \"Dictionaries.ipynb\" file, process your text by building a dictionary that zips words with their frequency, then removes redundancy by storing the data in the \"dictionary\" format.\r\n",
    "def wordsToDictionary(word_bag):\r\n",
    "    word_freq = [word_bag.count(word) for word in word_bag]\r\n",
    "    return dict(list(zip(word_bag,word_freq)))\r\n",
    "\r\n",
    "test_words = (word_bag)\r\n",
    "counted_words = wordsToDictionary(test_words)\r\n",
    "print(counted_words)\r\n"
   ],
   "outputs": [
    {
     "output_type": "stream",
     "name": "stdout",
     "text": [
      "{'': 2, 'donald': 1, 'clarke': 1, 'irish': 1, 'times': 1, 'dec': 3, '10': 3, '2019': 20, 'not': 1, 'absolute': 1, 'top': 1, 'flight': 1, 'pixar': 4, 'no': 1, 'embarrassment': 1, 'either': 1, 'full': 20, 'review': 21, 'original': 12, 'score': 12, '3': 4, '5': 10, 'ben': 1, 'sachs': 1, 'chicago': 1, 'reader': 2, 'by': 1, 'the': 19, 'numbers': 2, 'this': 4, 'third': 1, 'and': 20, 'largely': 1, 'unnecessary': 1, 'sequel': 1, 'to': 9, 'toy': 12, 'story': 13, 'delivers': 1, 'everything': 1, 'you': 2, 'd': 2, 'expect': 1, 'from': 1, 'animation': 1, 'studio': 1, 'minus': 1, 'warmth': 1, 'wit': 1, 'dread': 1, 'a': 15, 'dowd': 1, 'av': 1, 'club': 1, '4': 13, 'is': 7, 'so': 2, 'fast': 1, 'light': 1, 'on': 1, 'its': 5, 'feet': 1, 'that': 6, 'it': 19, 's': 19, 'easy': 1, 'ignore': 1, 'pretty': 1, 'minor': 1, 'adventure': 2, 'b': 3, 'scott': 1, 'marks': 1, 'san': 1, 'diego': 1, 'jul': 1, '9': 1, 'why': 1, 'need': 1, 'for': 3, 'part': 1, 'there': 2, 'are': 2, 'new': 4, 'characters': 2, 'merchandise': 1, '2': 3, 'stephen': 1, 'romei': 1, 'australian': 1, 'jun': 16, '28': 2, 'fourth': 2, 'directorial': 1, 'debut': 1, 'of': 10, 'american': 1, 'animator': 1, 'screenwriter': 1, 'voice': 1, 'actor': 1, 'josh': 2, 'cooley': 3, 'he': 2, 'does': 1, 'his': 1, 'best': 1, 'with': 7, 'what': 1, 'has': 4, 'but': 5, 'script': 1, 'lacks': 1, 'spark': 1, 'udita': 1, 'jhunjhunwala': 1, 'livemint': 1, 'been': 1, 'winning': 1, 'warming': 1, 'hearts': 1, 'since': 1, '1995': 1, 'debutant': 1, 'director': 1, 'takes': 1, 'charge': 1, 'instalment': 1, 'which': 2, 'boasts': 1, 'exemplary': 1, 'digital': 1, 'artistry': 1, 'esther': 1, 'zuckerman': 1, 'thrillist': 1, '27': 1, 'gag': 1, 'minute': 1, 'filmmaking': 1, 'zany': 1, 'looney': 1, 'tunes': 1, 'energy': 1, 'covers': 1, 'lot': 2, 'plot': 1, 'at': 1, 'brisk': 1, 'pace': 1, 'michael': 1, 'sragow': 1, 'film': 7, 'comment': 1, 'magazine': 2, '24': 2, 'must': 1, 'see': 1, 'beauty': 1, 'drollery': 1, 'charm': 1, 'when': 1, 'comes': 1, 'boomerang': 1, 'maneuver': 1, 'all': 2, 'got': 1, 'max': 1, 'weiss': 1, 'baltimore': 1, 'yet': 1, 'another': 1, 'funny': 2, 'heartwarming': 1, 'uncommonly': 1, 'wise': 1, 'chapter': 1, 'in': 4, 'enduring': 1, 'series': 1, 'anthony': 1, 'lane': 1, 'yorker': 1, '23': 3, 'quickens': 1, 'deepens': 1, 'matthew': 2, 'norman': 1, 'london': 1, 'evening': 1, 'standard': 1, 'good': 3, 'criminal': 1, 'legislation': 1, 'flouts': 1, 'law': 1, 'diminishing': 1, 'returns': 1, 'governs': 1, 'movies': 1, 'after': 1, 'their': 1, 'names': 1, 'rozsa': 1, 'salon': 1, 'com': 2, 'latest': 1, 'installment': 1, 'perhaps': 1, 'bleakest': 1, 'most': 1, 'beautiful': 1, 'them': 2, 'wenlei': 1, 'ma': 1, 'news': 2, 'au': 1, '21': 6, 'proves': 1, 'once': 1, 'again': 1, 'still': 2, 'life': 2, 'left': 1, 'charming': 1, 'smart': 1, 'franchise': 2, 'mark': 2, 'kermode': 2, 'amp': 1, 'mayo': 1, '39': 1, 'i': 2, 'think': 2, 'standalone': 1, 'itself': 1, 'really': 1, 'validity': 1, 'own': 1, 'should': 2, 'be': 3, 'done': 1, 'now': 1, 'roxana': 1, 'hadadi': 1, 'pajiba': 1, 'undergoes': 1, 'meta': 1, 'treatment': 1, 'works': 1, 'beautifully': 1, 'resonates': 1, 'emotionally': 2, 'finally': 1, 'wrap': 1, 'up': 1, 'steven': 1, 'greydanus': 1, 'national': 1, 'catholic': 1, 'register': 1, 'as': 3, 'incredibles': 1, 'finding': 2, 'dory': 1, 'slick': 1, 'inventive': 2, 'enough': 2, 'make': 1, 'time': 1, 'spent': 1, 'old': 2, 'friends': 2, 'pass': 1, 'quickly': 1, 'warmly': 1, 'plenty': 1, 'laughs': 1, 'well': 1, 'few': 1, 'tears': 1, 'peter': 1, 'rainer': 1, 'christian': 1, 'science': 1, 'monitor': 1, 'doesn': 1, 't': 2, 'put': 1, 'through': 1, 'emotional': 1, 'wringer': 1, 'way': 1, 'predecessor': 1, 'did': 1, 'consistently': 1, 'witty': 1, 'heartfelt': 1, 'other': 1, 'words': 1, 'better': 1, 'than': 3, 'any': 1, 'right': 1, 'more': 1, 'justify': 1, 'existence': 1, 'adam': 1, 'graham': 1, 'detroit': 1, 'your': 3, 'purpose': 2, 'embracing': 1, 'destiny': 1, 'accepting': 1, 'mortality': 1, 'mature': 1, 'themes': 1, 'children': 1, 'handles': 1, 'nimbly': 1, 'while': 1, 'managing': 1, 'colorful': 1, 'family': 1, 'daniell': 1, 'toronto': 1, 'sun': 1, '20': 2, 'achieves': 1, 'near': 1, 'impossible': 1, 'an': 1, 'rewarding': 1, 'joyfully': 1, 'reintroduces': 1, 'alongside': 1, 'roster': 1, 'engaging': 1, 'joe': 1, 'morgenstern': 1, 'wall': 1, 'street': 1, 'journal': 1, 'isn': 1, 'flawless': 1, 'hugely': 1, 'enjoyable': 1, 'speaks': 1, 'bewitching': 1, 'buoyancy': 1, 'nothing': 1, 'less': 1, 'living': 1, 'mystery': 1, 'prev': 1, 'next': 1}\n"
     ]
    }
   ],
   "metadata": {}
  },
  {
   "cell_type": "code",
   "execution_count": 37,
   "source": [
    "# Finally, explore what you can learn from this dictionary. Try: \r\n",
    "# A. Sorting your dictionary using our prebuilt method\r\n",
    "word_freq = []\r\n",
    "for word in word_bag:\r\n",
    "    word_freq.append(word_bag.count(word))\r\n",
    "\r\n",
    "print(\"Frequencies: \" + str(word_freq[0:100]))\r\n",
    "print(\"Pairs: \" + str(list(zip(word_bag[0:100],word_freq[0:100]))))\r\n",
    "\r\n",
    "# B. Printing the top five most frequent words from your data\r\n",
    "# C. Querying for certain key words and printing their frequency\r\n",
    "# D. Comparing the relative frequency of words of interest"
   ],
   "outputs": [
    {
     "output_type": "stream",
     "name": "stdout",
     "text": [
      "Frequencies: [2, 1, 1, 1, 1, 3, 3, 20, 1, 1, 1, 1, 4, 1, 1, 1, 20, 21, 12, 12, 4, 10, 1, 1, 1, 2, 3, 3, 20, 4, 1, 19, 2, 4, 1, 20, 1, 1, 1, 9, 12, 13, 1, 1, 2, 2, 1, 1, 19, 1, 1, 1, 19, 1, 1, 20, 1, 20, 21, 15, 15, 1, 1, 1, 3, 3, 20, 12, 13, 13, 7, 2, 1, 20, 1, 1, 5, 1, 6, 19, 19, 1, 9, 1, 6, 19, 19, 15, 1, 1, 2, 20, 21, 12, 12, 3, 1, 1, 1, 1]\n",
      "Pairs: [('', 2), ('donald', 1), ('clarke', 1), ('irish', 1), ('times', 1), ('dec', 3), ('10', 3), ('2019', 20), ('not', 1), ('absolute', 1), ('top', 1), ('flight', 1), ('pixar', 4), ('no', 1), ('embarrassment', 1), ('either', 1), ('full', 20), ('review', 21), ('original', 12), ('score', 12), ('3', 4), ('5', 10), ('ben', 1), ('sachs', 1), ('chicago', 1), ('reader', 2), ('dec', 3), ('10', 3), ('2019', 20), ('pixar', 4), ('by', 1), ('the', 19), ('numbers', 2), ('this', 4), ('third', 1), ('and', 20), ('largely', 1), ('unnecessary', 1), ('sequel', 1), ('to', 9), ('toy', 12), ('story', 13), ('delivers', 1), ('everything', 1), ('you', 2), ('d', 2), ('expect', 1), ('from', 1), ('the', 19), ('animation', 1), ('studio', 1), ('minus', 1), ('the', 19), ('warmth', 1), ('wit', 1), ('and', 20), ('dread', 1), ('full', 20), ('review', 21), ('a', 15), ('a', 15), ('dowd', 1), ('av', 1), ('club', 1), ('dec', 3), ('10', 3), ('2019', 20), ('toy', 12), ('story', 13), ('4', 13), ('is', 7), ('so', 2), ('fast', 1), ('and', 20), ('light', 1), ('on', 1), ('its', 5), ('feet', 1), ('that', 6), ('it', 19), ('s', 19), ('easy', 1), ('to', 9), ('ignore', 1), ('that', 6), ('it', 19), ('s', 19), ('a', 15), ('pretty', 1), ('minor', 1), ('adventure', 2), ('full', 20), ('review', 21), ('original', 12), ('score', 12), ('b', 3), ('scott', 1), ('marks', 1), ('san', 1), ('diego', 1)]\n"
     ]
    }
   ],
   "metadata": {}
  }
 ],
 "metadata": {
  "orig_nbformat": 4,
  "language_info": {
   "name": "python",
   "version": "3.8.8",
   "mimetype": "text/x-python",
   "codemirror_mode": {
    "name": "ipython",
    "version": 3
   },
   "pygments_lexer": "ipython3",
   "nbconvert_exporter": "python",
   "file_extension": ".py"
  },
  "kernelspec": {
   "name": "python3",
   "display_name": "Python 3.8.8 64-bit ('base': conda)"
  },
  "interpreter": {
   "hash": "513dc2e41d739bb2c947903f3c0bbf636d03aa53ab50e61c694a27481c81805e"
  }
 },
 "nbformat": 4,
 "nbformat_minor": 2
}