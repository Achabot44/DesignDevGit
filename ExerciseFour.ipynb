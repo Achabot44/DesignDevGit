{
 "cells": [
  {
   "cell_type": "code",
   "execution_count": 1,
   "source": [
    "print(\"Let's start coding...\")"
   ],
   "outputs": [
    {
     "output_type": "stream",
     "name": "stdout",
     "text": [
      "Let's start coding...\n"
     ]
    }
   ],
   "metadata": {}
  },
  {
   "cell_type": "code",
   "execution_count": 3,
   "source": [
    "print(\"Check changes on Github\")"
   ],
   "outputs": [
    {
     "output_type": "stream",
     "name": "stdout",
     "text": [
      "Check changes on Github\n"
     ]
    }
   ],
   "metadata": {}
  },
  {
   "cell_type": "code",
   "execution_count": 6,
   "source": [
    "# For this exercise, you should start by reading in the text file produced from Exercise Three. This text file should already have the HTML code elements removed, and primarily consist of text and other characters that we will remove through our processing. Store the input of your file in a string, and convert the contents to lower case for consistency.\r\n",
    "f = open('toyStoryReview.txt', 'r')\r\n",
    "text = f.read()\r\n",
    "f.close()\r\n",
    "\r\n",
    "word_bag = text.split()\r\n",
    "print(word_bag[0:100])"
   ],
   "outputs": [
    {
     "output_type": "stream",
     "name": "stdout",
     "text": [
      "['Donald', 'Clarke', 'Irish', 'Times', 'Dec', '10,', '2019', 'Not', 'absolute', 'top-flight', 'Pixar.', 'No', 'embarrassment', 'either.', 'Full', 'Review', '|', 'Original', 'Score:', '3/5', 'Ben', 'Sachs', 'Chicago', 'Reader', 'Dec', '10,', '2019', 'Pixar', 'by', 'the', 'numbers,', 'this', 'third', 'and', 'largely', 'unnecessary', 'sequel', 'to', 'Toy', 'Story', 'delivers', 'everything', \"you\\\\'d\", 'expect', 'from', 'the', 'animation', 'studio,', 'minus', 'the', 'warmth,', 'wit,', 'and', 'dread.', 'Full', 'Review', 'A.A.', 'Dowd', 'AV', 'Club', 'Dec', '10,', '2019', 'Toy', 'Story', '4', 'is', 'so', 'fast', 'and', 'light', 'on', 'its', 'feet', 'that', \"it\\\\'s\", 'easy', 'to', 'ignore', 'that', \"it\\\\'s\", 'a', 'pretty', 'minor', 'adventure.', 'Full', 'Review', '|', 'Original', 'Score:', 'B', 'Scott', 'Marks', 'San', 'Diego', 'Reader', 'Jul', '9,', '2019', 'Why']\n"
     ]
    }
   ],
   "metadata": {}
  },
  {
   "cell_type": "code",
   "execution_count": 8,
   "source": [
    "#convert the contents to lower case for consistency.\r\n",
    "text = text.lower()\r\n",
    "word_bag = text.split()\r\n",
    "print(word_bag[0:100])"
   ],
   "outputs": [
    {
     "output_type": "stream",
     "name": "stdout",
     "text": [
      "['donald', 'clarke', 'irish', 'times', 'dec', '10,', '2019', 'not', 'absolute', 'top-flight', 'pixar.', 'no', 'embarrassment', 'either.', 'full', 'review', '|', 'original', 'score:', '3/5', 'ben', 'sachs', 'chicago', 'reader', 'dec', '10,', '2019', 'pixar', 'by', 'the', 'numbers,', 'this', 'third', 'and', 'largely', 'unnecessary', 'sequel', 'to', 'toy', 'story', 'delivers', 'everything', \"you\\\\'d\", 'expect', 'from', 'the', 'animation', 'studio,', 'minus', 'the', 'warmth,', 'wit,', 'and', 'dread.', 'full', 'review', 'a.a.', 'dowd', 'av', 'club', 'dec', '10,', '2019', 'toy', 'story', '4', 'is', 'so', 'fast', 'and', 'light', 'on', 'its', 'feet', 'that', \"it\\\\'s\", 'easy', 'to', 'ignore', 'that', \"it\\\\'s\", 'a', 'pretty', 'minor', 'adventure.', 'full', 'review', '|', 'original', 'score:', 'b', 'scott', 'marks', 'san', 'diego', 'reader', 'jul', '9,', '2019', 'why']\n"
     ]
    }
   ],
   "metadata": {}
  },
  {
   "cell_type": "code",
   "execution_count": 9,
   "source": [
    "\r\n",
    "# This week, we'll be using functions that we've already defined in our exercises. Try looking back through your code and notes from class. Our first step is to import the regular expressions module and remove all non-alpha-numeric characters from the string, then save the string as an array of words ready for processing. (Use the code in NormalizingText for reference)\r\n",
    "f = open('toyStoryReview.txt', 'r')\r\n",
    "text = f.read()\r\n",
    "f.close()\r\n",
    "\r\n",
    "text = text.lower()\r\n",
    "import re\r\n",
    "word_bag = re.compile(r'\\W+', re.UNICODE).split(text)\r\n",
    "print(word_bag[0:100])"
   ],
   "outputs": [
    {
     "output_type": "stream",
     "name": "stdout",
     "text": [
      "['', 'donald', 'clarke', 'irish', 'times', 'dec', '10', '2019', 'not', 'absolute', 'top', 'flight', 'pixar', 'no', 'embarrassment', 'either', 'full', 'review', 'original', 'score', '3', '5', 'ben', 'sachs', 'chicago', 'reader', 'dec', '10', '2019', 'pixar', 'by', 'the', 'numbers', 'this', 'third', 'and', 'largely', 'unnecessary', 'sequel', 'to', 'toy', 'story', 'delivers', 'everything', 'you', 'd', 'expect', 'from', 'the', 'animation', 'studio', 'minus', 'the', 'warmth', 'wit', 'and', 'dread', 'full', 'review', 'a', 'a', 'dowd', 'av', 'club', 'dec', '10', '2019', 'toy', 'story', '4', 'is', 'so', 'fast', 'and', 'light', 'on', 'its', 'feet', 'that', 'it', 's', 'easy', 'to', 'ignore', 'that', 'it', 's', 'a', 'pretty', 'minor', 'adventure', 'full', 'review', 'original', 'score', 'b', 'scott', 'marks', 'san', 'diego']\n"
     ]
    }
   ],
   "metadata": {}
  },
  {
   "cell_type": "code",
   "execution_count": null,
   "source": [
    "# Next, we'll use stop words to remove all the words that we don't want to include in our count. There are suggested words in this week's readings, but you can also generate a custom list based on your topic. Define the stop words in an array, and use a loop to remove any word in your bag of words that also appears on the stop words list (use the examples in Dictionaries for guidance.)\r\n"
   ],
   "outputs": [],
   "metadata": {}
  }
 ],
 "metadata": {
  "orig_nbformat": 4,
  "language_info": {
   "name": "python",
   "version": "3.8.8",
   "mimetype": "text/x-python",
   "codemirror_mode": {
    "name": "ipython",
    "version": 3
   },
   "pygments_lexer": "ipython3",
   "nbconvert_exporter": "python",
   "file_extension": ".py"
  },
  "kernelspec": {
   "name": "python3",
   "display_name": "Python 3.8.8 64-bit ('base': conda)"
  },
  "interpreter": {
   "hash": "513dc2e41d739bb2c947903f3c0bbf636d03aa53ab50e61c694a27481c81805e"
  }
 },
 "nbformat": 4,
 "nbformat_minor": 2
}