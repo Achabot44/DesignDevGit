{
 "cells": [
  {
   "cell_type": "code",
   "execution_count": 1,
   "metadata": {},
   "outputs": [],
   "source": [
    "#Stage One: Import the libraries and Scrape your Page\n",
    "\n",
    "import requests\n",
    "from bs4 import BeautifulSoup\n",
    "import pandas as pd"
   ]
  },
  {
   "cell_type": "code",
   "execution_count": 2,
   "metadata": {},
   "outputs": [],
   "source": [
    "url = 'https://www.metacritic.com/game/playstation-5/diablo-ii-resurrected/user-reviews?sort-by=date&num_items=100'\n",
    "\n",
    "user_agent = {'User-agent': 'Mozilla/5.0'}\n",
    "response = requests.get(url, headers = user_agent)\n",
    "\n",
    "soup = BeautifulSoup(response.text, 'html.parser')"
   ]
  },
  {
   "cell_type": "code",
   "execution_count": 3,
   "metadata": {},
   "outputs": [],
   "source": [
    "#Stage Two: Define an Empty Dictionary Reflecting the Data Categories\n",
    "\n",
    "review_dict = {'name':[], 'date':[], 'rating':[], 'review':[]}"
   ]
  },
  {
   "cell_type": "code",
   "execution_count": 5,
   "metadata": {},
   "outputs": [
    {
     "name": "stdout",
     "output_type": "stream",
     "text": [
      " Всем хорошей игры!\n",
      "A videogame that remains immortal even after 20. The genre is inspired by this standard .. how many times do you say Diablo LIke ... A dip in the early 2000s. Immortal as always Diablo 2. Too many 0s dictated by ignorance.The lack of any news is a shortcoming ..It would have been 10 with crossplay and fewer disconnections\n",
      " The overall the game is fun enough, but it suffers from the lack of lessons learned in future games.\n",
      "Ive had the game almost a full 2 weeks. No new patches. Game consistently crashes. Sometimes losing hours of play time. Absolutely unacceptable to not implement an autosave feature.\n",
      "I played Diablo 2 a lot when I was younger and this remaster hits the spot for me. I bought it a week or 2 after release and have had no problem with bugs or the servers. People review bombing this game are clowns who find anything to be upset about. Great remaster would recommend\n",
      "Brilliant game! Шикарная не устаревающая игра засияла новыми красками! Рекомендую\n",
      "Simply the best Diablo. You should buy it and play it. Again and again. Looks gorgeous on PS5 and plays well with game pad \n",
      "It's new skin just like advertised...that's it. to me it seems there could have been some minor quality of life improvements that would have made the game more enjoyable, but other than that it's the same game from 20 years ago, with a fresh coat of paint.\n",
      "It did not sell to me… I bought the digital edition, so I cannot ask for a refund, but if you like that sort of gameplay, the visuals and the sounds will get you and you will find yourself immerse in an amazing experience, but this is not my kind of game. It would have been better a remaster rather than a remake\n",
      "it's understandable that the game at launch has small connectivity issues but it gets better as the days go by this classic really leaves me amazed that I'm playing well.\n",
      "Дохожу до 3ого уровня логово за 40 минут и тут падают сервера.\n",
      "Unbelievable. The worst game ever released. Im a HUGE Diablo2 fan, I preorded the game months ago, but I cant play. I reached 3 times Act3 and the game crashed and sent me back to the start of act 2. we are talking around 10 hours of gameplay from act2 to act3. f@ck you blizzard. really. i was a fan since warcraft1 but this is enough. you f-us once with warcraft3 remake, you did it with the latest wow expansions and now you do it with d2r. the game is UNPLAYABLE. STAY AWAY. BTW SONY wont refund the game so if you want to try your luck dont do it with a ps4-5......\n",
      "This remaster of Dialbo 2 is as good as a remaster can be, just an amazing job leaving the game intact and adding some small quality of life improvements. This remaster is the mother of all remasters.\n",
      "It's the granddaddy - all those dungeon crawlers you played started with how awesome D2 was. VV did an amazing job to reanimate this classic to it's former self, adding little bits of modern assistance without dicking around with the game. What's truly amazing is this is the Diablo 2 you couldn't play online and answer the phone with...  on a PS5! A 20 year old game got ported to console and, if my nostalgia is correct, it still feels like playing mouse and keyboard Diablo! VV did a fantastic job on squaring this impossible circle for controllers.====D2:R passes the 2020 test and then some. The graphics are good as any modern game. The animations are all redone. The spells look absolutely beautiful...  all the while, the sounds are remastered originals. AI is designed from original source code. Level design is unchanged. The abusable things are still abusable. This is the Diablo 2 you remember, and it still kicks ass.But VV's added some 2020 to the papa of RNGesus. For example, you never had things like \"auto gold pick-up\", or a friend's list in the lobby to quickly join your buddies, or an ability to compare items side by side without flipping between the two. Monumental additions these are not - VV changes to the D2 are helpful in the background =because= any changes in a remaster ought to be barely noticeable (Warcraft reforged being example of what not to do).===Some will say - I don't know what to do! The game never told me! No \"information book with the CD\" anymore! No guidance on how to play! That's exactly why D2:R is an awesome game to play. Modern games have so much handholding for even the dimmest person to figure out \"X means attack\". In Diablo 2's time, it was sink or swim as a gamer. \"Here's a masterpiece dungeon crawler - it's not rocket science, but it's on you to discover the details for yourself. You're going to die trying.\" Or just Google it, you dolt.Some will say - organizing items is a pain. Did you run out scroll of town portal? Maybe if you stopped picking up useless garbage like a vacuum cleaner, it wouldn't be so bad. Besides this is a 20 year old game that said \"suck it up princess\". VV even gave you 4 extra stashes shared across characters, so you don't need mules to transfer items anymore. Hey look - another nice 2020 touch, without violating the spirit of the game. That's what I'm talking about.===Bottom line This is Diablo 2, translated to your console without skipping a beat, as if it was yesterday. What a tribute that two decades later, warts and all, VV's shown Diablo 2 is still the GOAT\n",
      "A nearly perfect game has been remade to play almost exactly as the original did but with incredibly detailed graphics that you'll swear looks exactly like the original.. until you press L2+touchpad and see what those old graphics actually looked like. What a joy to be playing this again. Already level 53, I just can't stop.\n",
      "(This review is specifically for ps5)\n",
      " Overall though, great game, having a blast but sad that a few more things weren’t brought into 2021.\n",
      "It's a nostalgia fest - and a good one :) Exactly same gameplay, including unneeded things like exploding potions. No disconnections so far, only once I ended up with server limbo after leaving my console in power save mode with D2R opened. I will bump my rating once cross play is in - for me this is a must have to make this worth your time.\n",
      "8 out of 10 for PC\n",
      "Enjoying it so far!\n",
      "Un playable,disconnections every 1-2 hours, censoring, etc. Visually the game is gorgeous, but technically they fked up real good. They also censored the game.\n",
      "This is the best Diablo 2 has ever been. Game's beautiful and the ability to have up to 12 skills mapped at once is a god send.\n",
      "Цензура зло, в любом своем проявлении. Сколь большой ни была работа, нельзя вычеркивать видение автора.\n",
      "The game is a remaster with minimum intervention and even that intervention is toggleable. Thus there’s not much to rate, apart from:1. Visuals. Great looks for a 3D game strapped onto a 2D engine. Great remaster of the Act intro cinematics, quality environment, item and enemy redesigns, very cool reimagining of the VFX… All would be great if not for the:A) Censorship - I mean, we all know what we really saw in Monastery jail and catacombs in the OG graphics, admit itB) Unnecessary anti-objectification - like Assassin’s naked ass suddenly turning into skin-toned trousers, Amazon boobs dropping down a couple sizes, Sorceress underboob getting covered and so on… It’s not a Korean MMORPG, obviously, but it’s not a social boundaries education game either.C) Ugly faces of almost every hero and NPC - paint Amazon hair white and you would not be able to tell which of the two is Necromancer. D3 faces look pleasant, why D2 faces have to be so unattractive?2. Performance. There were a couple times my party members crashed and I lost some progress day one of the game, but the situation has been steadily improving ever since, like it usually happens with Blizzard launches. Too much overreaction about that, in my opinion.So the bottomline is: the remaster is great, good nostalgia, except I’d say, it’s not really worth the full price.\n",
      "A good remaster of the legendary game! Thanks. Good luck with Diablo 4 Blizzard.\n",
      "Бессмертная классика заглянула теперь и на консоли нового поколения, и играется на PlayStation 5 великолепно!\n",
      "Игра офигенная, самое главное это то, что оставили все как есть, на старте имелись проблемы с серверами, и сейчас есть небольшой рассинхрон временами, но это мелочи. Первые пару недель можно поиграть в одиночку, и просто полюбоваться проделанной работой, а там как раз и серверы пофиксят, и сезон запустят первый. Объективно я бы поставил этой игре 8.5/10, минус балл за цену, за просто ремастер считаю немного перебор, и минус полбалла за сервера, но поставлю 10 из за конченных сонибоев, которым не завезли в геймплей кнопку \"стать 99 уровнем\", и у них с этого пердак сгорел, что отразилось на общей оценке.\n",
      "Best game ever! Best game ever! Best game ever! Best game ever! Best game ever!\n",
      "man, I know now why no one trusts the critics, this game sucks, beta worked fine but rr doesn't even launch yeah this game deserves a 0 not an 83.\n",
      "I am writing this review for the PS5 console version. Act I, Act II are fine; but once you open up into Act III the game is unplayable. I have adjusted the in game options to turn off added visual effects, scaled the resolution, selected performance mode. I lag across the screen, there’s about a 7-9 second delay, and I’m told “Your connection was interrupted.”I then decided I would simply play my character offline, and enjoy the story. Well your character is saved online and unless you specify from the get go to play offline, you can’t have access to your character. This is a multiplayer game. Why wouldn’t you be able to use the same character for both online and offline gameplay? It’s asinine. You would think a game company that’s been around for the last 40+ years would have the experience to understand the obvious problems from connectivity to access to save progress. Purchase the game if you would like to. I loved it Act I through Act II but then come Act III it’s a laggy, twitchy, connection interrupted adventure. Thumbs down Blizzard!\n",
      "You can basically only play single player on console. Terrible lobby system. Just buy it on PC. I would not recommend buying it on console, unless you like playing SSF.If blizzard don’t take action this game will be dead on arrival on consoles. And knowing blizzard I am not holding my breath.\n",
      "My experience on ps pro was perfect, it's the game of my life, the graphic upgrade is perfect.\n",
      "Changed my initial review from a 0 to a 9, as it appears that they have fixed the bug that caused the character progression glitch. This game is exactly what I wanted, and they have delivered! I wanted the same Diablo 2 experience that I remember from my childhood, but with updated graphics. That is exactly what this game is. Awesome!\n",
      " p.s в целом жду не дождусь когда Котика торкнут из активижн, с приходом этого жадного человека, компания опускается на дно.\n",
      "This is the best Diablo game, now in silky smooth 4K 60fps on a 65“ widescreen. Music, Gameplay and addiction is s just as good as 20 years ago. After 2 days the servers seem to be stable too. I cant put it down!\n",
      "Oh how I spent countless hours back in college playing Diablo 2 on my old Sony Vaio laptop. Stationed at my little desk in the corner of my efficiency apartment, equipped with a drink, a snack and other enhancements and with my angry ex-girlfriend yelling at me to get a life. I would forge ahead ever deeper into the bowels of hell, seeking glory and loot. Coming off of playing Diablo 1 in my youth on PS1/PC, D2s broader scope and updated loot and class system had me hooked. I usually played as a Barbarian tank, plowing my way through hoards of enemies and only being challenged by the toughest of foes, even the hardest modes bowed to me, I had this game perfected. These were glory days indeed.When I heard D2: Resurrected was coming to my PS5 I was a little torn, games have come so far, I didn’t particularly care for D3, and would I really want to spend any more time with this game, perhaps tainting my memory of it from the engaging bliss I once felt? Alas launch day arrived, I first started playing the Death Stranding PS5 upgrade which I downloaded at the same time, constantly pondering whether to flip over to D2R and try it out. I was almost apprehensive but finally I did. Initially I wasn’t exactly blown away by the graphical upgrades, in fact it looked much like how I remembered it. It wasn’t until I flipped to the legacy graphics that I could see what the developers  had done, and it certainly had a nice layer of paint while maintaining the original games mood and feel. There weren’t too many quality of life or feature upgrades to speak of, you must still travel back to town on the regular to stash and sell loot, strikes on enemies still sometimes miss their target, and progress remains fairly linear and guided. All said, this was Diablo 2 as I remembered it, and I got sucked right back in! As soon as I ventured out from the Rouge Encampment with my newly created Paladin and began slaying demons and gathering loot, gold and potions against the backdrop of D2s amazing soundtrack it all came back to me. No I certainly won’t have the hours to pour into this iteration like I did the original, I mean I have a wife, a job and a mortgage now, but I could definitely see spending some more time, maybe much more time, in the universe of Diablo 2 before I lay down my sword again.\n",
      "Unplayable, it keeps crashing and deleting savegames. I had to restart from the beginning twice.\n",
      "This is a censored version of Blizzard’s classic looter. What was the point of bragging about how much attention to detail was given to replicate the original’s graphics if you couldn’t get the basics of the character models right? All the classes look like they’ve aged 20 years as if the models actually aged in between the original and “remaster”. The Amazon looks like a man and her outfits were censored to appear less sexualized. The same is true for the other “female” classes while the male models just look like tired old men. It’s funny how it’s okay for these deranged liberals to sexualize underage girls in trash like “Cuties” but adult females in a dark fantasy setting can’t have any sexualization. Blizzard even censored some of the enemy models and backgrounds. Blizzard knew the outrage from fans over the changes they made to the character designs and doesn’t seem to care and released it in this condition anyway. The only reason I gave this game a 1 is that you can switch back to the original uncensored graphics but that kind of defeats the purpose of buying a remaster in the first place and that doesn’t really fix the ugly models which are still present. Don’t support this “remaster” with your money the original unbastardized version is still available to play.\n",
      "Не знаю на что все жалуются. К внешнему виду персонажей никаких претензий у меня нет. Да не приятно, что Амазонке поправили модельку в сторону меньше сексуализации, но я и в игру захожу не чтобы … ну вы поняли. Что касается баланса - эта та же игра, что была и в 2000, о чем было известно заранее, так как это обычный ремастер. О техническом состоянии пока судить рано, но сетевой код в целом работает  лучше, чем во время открытой беты. По крайней мере регистрация попаданий работает отлично. Персонаж у меня не пропадал. А вот зайти в первый день я так и не смог, что не может не огорчать. Так что завышать оценку не вижу смысла, так как обделаться на старте все равно умудрились, но и занижать оценку, по сути, тоже не за что. Мы получили ровно то, что нам показывали и обещали.\n",
      "Хороший ремейк. На старте проблем не увидел от слова совсем, не знаю почему другие жалуются.\n",
      "I thought that it is easy to make the same game 20 years later, but something went wrong. This game is just rubbish. It disconnects, it says that you don’t have the character anymore and you need to make it again, that you don’t have Internet connection, but I have 500 Mb/s! And it has the longest downloads for 2021! I wanted to send this game back to Blizzard, but I was refused for return!\n",
      "Отличная игра, отрицательные оценки ставят какие-то троли\n",
      "Пропадают сохранения. Абсолютно неиграбельна из-за этого. Хватит их кормить, не покупайте эту игру.\n",
      "I played Diablo I on DOS as a kid in 1990s, and Diablo II on a bulbous red CRT iMac in 2000. They were both dark and outstanding games for their times. I was disappointed with Diablo III, how they used their cartoon design language borrowed from World of Warcraft, and how they essentially made it a remake and sequel at the same time (you travel to the same areas in the same order, dungeons and world aren’t bigger, etc.). This remaster is the exact same game as the original, but with shiny new graphics literally running right on top of it. I’m finding that I enjoy it still much more than I expected, especially the further in I’ve played. I’m giving it a 10 because they did a perfect job of doing exactly what was intended– leaving the game exactly as it was, but updating the graphics to the modern day equivalent. If you’re young and never played old school games like these, it might not be for you. Keep in mind that the gameplay is still from before September 11th, 2001 happened. Don’t expect too much when 20 years of revolutionary advancements in gaming have been achieved since. With that in mind, this game is actually pretty fantastic. I don’t think the L2+touchpad option to switch to the original game video is gimmicky at all. Maybe it’s because I’m super old, I dunno. Diablo III was already practically a remake, so this didn’t need that to happen. I’m hoping D4 will lose the WoW appeal and return to true form. It seems like everyone feels that way, fan of the originals or not. The graphics should he more… evil\n",
      "I want to remind youThis is remastered, not a remakeWhat has this place becomePeople are retarded...\n",
      "Al them who gave 0 due to connectivity issues or mumbling about silly stuff shame on you all! This is a great revamp of a solid game of 20 years old!\n",
      "The best game that sends you as a child! 10/10The best reissue Blizzard!!!\n",
      "Plays surprisingly well, I enjoy it on console just as much as PC. They need to add a better lobby/multiplayer experience.\n",
      "Excellent! Thank you Blizzard we wait this 15 years! Best game ever on 4k tv\n",
      "Игра вышла шикарной, все как и планировалось ожидать от ремастера, те кто хотели изменений геймплея, могут дальше ждать 4ой части.\n",
      "Absolutely stunning. This game turned out to be exactly as I expected. Brought back lots of memories\n",
      "Beautiful game, everything as it should be. Got some server lags in the beginning, but it's ok\n",
      "Turned out to be amazing! People who expected new gameplay from remaster, are you actually dumb? It' awesome, that they left everything as it was.\n",
      "Минус один бал за отсутсвие кроссплея. И жаль что для предзаказа не было никаких банусов.\n",
      "Прошел 1 акт , не 1 косяка не было. Начинал играть ровно на старте игры. За все это время было 0 вылетов ( играю в сети )  10из10. Не играл в оригинал. Но это прям зашло.\n",
      "As an original player, I am loving this game and have not had any issues like a bunch of the whiners have been saying. Been cooping with friends and having a blast. We’re sadly at a day in this age where whining and review bombing pathetically is all we want to do. Easy 10 and should prob stay away from user ratings cause they’ve become less reliable over time now.\n",
      "cant even log into the game. played the beta and ran the game perfectly. They admitted that they accidently  turned on avx after the beta into live and that was unintentional. Then they decide to fix in game issues and focus on streamers instead of fixing the avx that is stopping 10s of thousands of players from playing a game they pre ordered. There is currently a form post about this with 30 000 views and at least 6 blue post updates. The final post from blizzard was about them looking into it and not have a solution for at least 3 days.\n",
      "What in the hell is up with the bad reviews? Playing this on a Series X at 60 fps and it’s great! Ignore the psycho babble left here by idiots.  Probably communists leftists.\n",
      "This a perfect remaster in my opinion.  I love the old school hardcore nature of this.  It's really dark and I love that.  The graphics are really great.  The music is amazing.  I'm glad they left the essence of the game in tact.  Ignore the haters, this game is quality.\n",
      "Ignore the high ratings or you will be disappointed. Now that they are making the servers playable, this game is a 7 at best. Offers nothing over the original except visual improvements. Those visuals do look really good but if you have played this game over the years, don't expect anything else. Really annoying that opening your inventory takes up the entire screen instead of off to the side like pc and original game. Online co op is still pretty laggy but playing by yourself is mostly fine.\n",
      "Игру невозможно даже запустить! Падает сразу на подключении в battle.net. Все железо удовлетворяет требованиям, все драйвера обновлены, ось обновлена..\n",
      "Lack of chat and ability to create your own „named” game kills the endgame on consoles. It was supposed to be a Return of the great classic and we have a half-product. Blizzard don’t care about console players.\n",
      " Now I have 2 kids a 3.5 year old and an 8 month old. I work 60 hours a week. For $40 and a multi billion dollar company, these issues are inexcusable. Honestly like come on it's not even a full new game it is a remaster. Why these companies think this is just par for course is beyond me. There is no excuse for this and I just warn anyone looking to buy this game to just wait a bit. We all want to play the latest and greatest right now, but I can't begin to express how frustrating it is to play a new game littered with issues like this. Buyer beware.\n",
      "It could be a perfect game and they did so much excellent work... it is really beautiful game! but oh... why all my favorite playable characters except sorc are so unbearably ugly... I try my best to realize how did they manage to create such ugly freaks, and just can not find an excuse. And I wouldnt forgive them killing the amazon. Shame.\n",
      "I am a huge fan of the original, I've been playing it since it came out. Don't like all of the decisions but overall the game is a masterpiece. I've bought it on PC, Playstation 5 and Switch, and I like all of them :)\n",
      "Connection lost every 1-2 hours. Nice EU servers. The game itself great, but who cares, if you can't play it the way it meant to be.\n",
      "Игнорируйте этих идиотов кто ставит высокие оценки этому мусору. Последняя надежда на и как всегда провал и разачоравание от blizzard, вышла забагованное чудовище, все персонажи уродцы, страшные и потасканные, сжв повесточка в самом разгаре, моего любимого персонаж амазонку, так вообще сделали трансгендерным мужиком, которым играть не хочется. Игра вылетает, на серверы хрен зайдешь, а персонажи самоудаляются, интерфейс не удобный, играть не приятно, полный мусор, а не игра.\n",
      "goodgoodgoodgoodgoodgoodgoodgoodgoodgoodgoodgoodgoodgoodgoodgoodgoodgoodgoodgoodgoodgoodgoodgoodgood\n",
      "Ignore the idiots this game is amazing diablo 2 is everything I wanted from diablo game\n",
      "Dejaros de haters y mierdas y disfrutar del juego. ES UN JUEGAZO tal y como lo recordabas en el año 2000.\n",
      "Best game ever - Remastered! All good, graphics have 2 modes(including 60fps). Sound is great!! Servers repaired, dont cry babies. But Vicarious visions can you remaster INVENTORY, please.\n",
      "Sorry to say, but this game is such a disappointment. Yes, I did play months or more with Diablo2 in 2000... But for a game on PS5, I would expect a graphic at least as the Diablo3 had, but this is far from anything I want to see on PS5... It is just ugly... the way the characters act is so dumb. Ok, the gold is picked up automatically, but everything else is just crap... Ok, I get they need money, they created fantastic videos, but videos cannot sell the game... It seems they got the word resurrected and released something that was good-looking 21 years ago... but the hw changed since that time... I did regret to spend $99 for this, Installed on the first day and uninstalled it one day later when realized, it is just ugly... the AI so dumb... rather spend my time with anything else\n",
      "I hope PlayStation could have it removed from store and offer the refund option just like they did for Cyberpunk 2077. This is ridiculous.\n",
      "Very dated game indeed. Only for die hard fans. Normal player will get bored  too soon. They should remake it, not remaster.\n",
      "ignore the review bombs. babies. there are always going to be bugs on day of release. vicarious visions poured a lot of soul into this remake. let them work on the bugs, you're not going to die if you have to wait another day. I am SICK of these review bombing babies, wahhhhh i want my pony NOW pa pa. NOW. the game is great, classic and an impressive amount of added visual content fleshing out the world.\n"
     ]
    }
   ],
   "source": [
    "#Stage Three: Loop through and Store Structured Data\n",
    "\n",
    "for review in soup.find_all('div', class_='review_content'): \n",
    "    if review.find('div', class_='name') == None:\n",
    "        break \n",
    "    review_dict['name'].append(review.find('div', class_='name').find('a').text)\n",
    "    review_dict['date'].append(review.find('div', class_='date').text)\n",
    "    review_dict['rating'].append(review.find('div', class_='review_grade').find_all('div')[0].text)\n",
    "    if review.find('span', class_='blurb blurb_expanded'): \n",
    "        review_dict['review'].append(review.find('span', class_='blurb blurb_expanded').text)\n",
    "        print(review.find('span', class_='blurb blurb_expanded').text)\n",
    "    elif review.find('div',class_='review_body').find('span') == None:\n",
    "        review_dict['review'].append('No review text.')\n",
    "        print(\"No review\")\n",
    "    else:\n",
    "        review_dict['review'].append(review.find('div',class_='review_body').find('span').text)\n",
    "        print(review.find('div',class_='review_body').find('span').text)"
   ]
  },
  {
   "cell_type": "code",
   "execution_count": 6,
   "metadata": {},
   "outputs": [],
   "source": [
    "#Stage Four: Convert from Dictionary to DataFrame and Display\n",
    "\n",
    "\n",
    "ac_reviews = pd.DataFrame(review_dict)"
   ]
  },
  {
   "cell_type": "code",
   "execution_count": 7,
   "metadata": {},
   "outputs": [
    {
     "data": {
      "text/html": [
       "<div>\n",
       "<style scoped>\n",
       "    .dataframe tbody tr th:only-of-type {\n",
       "        vertical-align: middle;\n",
       "    }\n",
       "\n",
       "    .dataframe tbody tr th {\n",
       "        vertical-align: top;\n",
       "    }\n",
       "\n",
       "    .dataframe thead th {\n",
       "        text-align: right;\n",
       "    }\n",
       "</style>\n",
       "<table border=\"1\" class=\"dataframe\">\n",
       "  <thead>\n",
       "    <tr style=\"text-align: right;\">\n",
       "      <th></th>\n",
       "      <th>name</th>\n",
       "      <th>date</th>\n",
       "      <th>rating</th>\n",
       "      <th>review</th>\n",
       "    </tr>\n",
       "  </thead>\n",
       "  <tbody>\n",
       "    <tr>\n",
       "      <th>0</th>\n",
       "      <td>Thaksin</td>\n",
       "      <td>Oct  8, 2021</td>\n",
       "      <td>7</td>\n",
       "      <td>Не играл в оригинал, получал удовольствие от и...</td>\n",
       "    </tr>\n",
       "    <tr>\n",
       "      <th>1</th>\n",
       "      <td>Manziflex</td>\n",
       "      <td>Sep 25, 2021</td>\n",
       "      <td>8</td>\n",
       "      <td>A videogame that remains immortal even after 2...</td>\n",
       "    </tr>\n",
       "    <tr>\n",
       "      <th>2</th>\n",
       "      <td>Bossuk</td>\n",
       "      <td>Oct  4, 2021</td>\n",
       "      <td>5</td>\n",
       "      <td>Diablo 2 was an iconic game, and you could los...</td>\n",
       "    </tr>\n",
       "    <tr>\n",
       "      <th>3</th>\n",
       "      <td>OptimusSentry</td>\n",
       "      <td>Oct  3, 2021</td>\n",
       "      <td>3</td>\n",
       "      <td>Ive had the game almost a full 2 weeks. No new...</td>\n",
       "    </tr>\n",
       "    <tr>\n",
       "      <th>4</th>\n",
       "      <td>Skubasteve</td>\n",
       "      <td>Oct  3, 2021</td>\n",
       "      <td>9</td>\n",
       "      <td>I played Diablo 2 a lot when I was younger and...</td>\n",
       "    </tr>\n",
       "    <tr>\n",
       "      <th>...</th>\n",
       "      <td>...</td>\n",
       "      <td>...</td>\n",
       "      <td>...</td>\n",
       "      <td>...</td>\n",
       "    </tr>\n",
       "    <tr>\n",
       "      <th>145</th>\n",
       "      <td>Slashrus</td>\n",
       "      <td>Sep 24, 2021</td>\n",
       "      <td>10</td>\n",
       "      <td>Best game ever - Remastered! All good, graphic...</td>\n",
       "    </tr>\n",
       "    <tr>\n",
       "      <th>146</th>\n",
       "      <td>Csonty</td>\n",
       "      <td>Sep 24, 2021</td>\n",
       "      <td>0</td>\n",
       "      <td>Sorry to say, but this game is such a disappoi...</td>\n",
       "    </tr>\n",
       "    <tr>\n",
       "      <th>147</th>\n",
       "      <td>Sheldontung</td>\n",
       "      <td>Sep 24, 2021</td>\n",
       "      <td>0</td>\n",
       "      <td>I hope PlayStation could have it removed from ...</td>\n",
       "    </tr>\n",
       "    <tr>\n",
       "      <th>148</th>\n",
       "      <td>plexx</td>\n",
       "      <td>Sep 24, 2021</td>\n",
       "      <td>3</td>\n",
       "      <td>Very dated game indeed. Only for die hard fans...</td>\n",
       "    </tr>\n",
       "    <tr>\n",
       "      <th>149</th>\n",
       "      <td>joeblowsglass</td>\n",
       "      <td>Sep 24, 2021</td>\n",
       "      <td>10</td>\n",
       "      <td>ignore the review bombs. babies. there are alw...</td>\n",
       "    </tr>\n",
       "  </tbody>\n",
       "</table>\n",
       "<p>150 rows × 4 columns</p>\n",
       "</div>"
      ],
      "text/plain": [
       "              name          date rating  \\\n",
       "0          Thaksin  Oct  8, 2021      7   \n",
       "1        Manziflex  Sep 25, 2021      8   \n",
       "2           Bossuk  Oct  4, 2021      5   \n",
       "3    OptimusSentry  Oct  3, 2021      3   \n",
       "4       Skubasteve  Oct  3, 2021      9   \n",
       "..             ...           ...    ...   \n",
       "145       Slashrus  Sep 24, 2021     10   \n",
       "146         Csonty  Sep 24, 2021      0   \n",
       "147    Sheldontung  Sep 24, 2021      0   \n",
       "148          plexx  Sep 24, 2021      3   \n",
       "149  joeblowsglass  Sep 24, 2021     10   \n",
       "\n",
       "                                                review  \n",
       "0    Не играл в оригинал, получал удовольствие от и...  \n",
       "1    A videogame that remains immortal even after 2...  \n",
       "2    Diablo 2 was an iconic game, and you could los...  \n",
       "3    Ive had the game almost a full 2 weeks. No new...  \n",
       "4    I played Diablo 2 a lot when I was younger and...  \n",
       "..                                                 ...  \n",
       "145  Best game ever - Remastered! All good, graphic...  \n",
       "146  Sorry to say, but this game is such a disappoi...  \n",
       "147  I hope PlayStation could have it removed from ...  \n",
       "148  Very dated game indeed. Only for die hard fans...  \n",
       "149  ignore the review bombs. babies. there are alw...  \n",
       "\n",
       "[150 rows x 4 columns]"
      ]
     },
     "execution_count": 7,
     "metadata": {},
     "output_type": "execute_result"
    }
   ],
   "source": [
    "ac_reviews"
   ]
  },
  {
   "cell_type": "code",
   "execution_count": 21,
   "metadata": {},
   "outputs": [
    {
     "name": "stdout",
     "output_type": "stream",
     "text": [
      "Counter({'the': 582, 'and': 324, 'to': 316, 'a': 284, 'i': 250, 'is': 234, 'of': 216, 'game': 178, 'you': 176, 'this': 160, 'it': 160, 'in': 120, 'with': 108, 'that': 98, 'but': 98, 'for': 92, 'on': 86, 'have': 82, 'as': 80, 'diablo': 70, 'my': 70, 'are': 68, 'was': 66, 'not': 66, 'like': 64, 'they': 58, 'from': 54, 'не': 50, 'your': 48, 'just': 48, 'all': 48, 'be': 48, 'и': 46, 'at': 40, 'get': 38, 'what': 38, 'remaster': 36, 'play': 36, 'would': 34, '2': 34, 'an': 34, 'if': 34, 'so': 34, 'back': 32, 'up': 32, 'game.': 32, 'на': 30, 'best': 30, 'will': 30, 'в': 28, 'been': 28, 'same': 28, 'really': 28, 'playing': 28, 'or': 28, 'did': 28, 'still': 28, 'how': 26, 'more': 26, \"it's\": 26, 'out': 26, '-': 26, 'into': 24, 'had': 24, 'graphics': 24, 'original': 24, 'even': 22, 'by': 22, 'issues': 22, 'about': 22, 'years': 22, 'can': 22, 'act': 22, 'good': 22, 'much': 22, 'что': 22, 'one': 20, 'review': 20, '20': 20, 'blizzard': 20, 'has': 20, 'character': 20, 'want': 20, 'exactly': 20, 'game,': 18, 'hours': 18, 'now': 18, 'only': 18, 'no': 18, 'almost': 18, 'new': 18, 'me': 18, 'there': 18, 'need': 18, 'old': 18, 'за': 18, 'console': 18, 'it’s': 18, 'any': 16, '10': 16, 'games': 16, 'having': 16, 'gameplay': 16, 'being': 16, 'played': 16, 'over': 16, 'we': 16, 'these': 16, 'why': 16, 'все': 16, 'too': 14, 'could': 14, 'time': 14, 'everything': 14, 'lot': 14, 'overall': 14, 'great': 14, 'some': 14, 'iii': 14, 'got': 14, 'then': 14, 'enemies': 14, 'great,': 14, 'them': 14, 'once': 14, 'look': 14, 'day': 14, 'don’t': 14, 'от': 12, 'after': 12, 'do': 12, 'other': 12, 'very': 12, 'every': 12, 'ps5': 12, 'than': 12, 'try': 12, 'little': 12, 'were': 12, 'better': 12, 'amazing': 12, \"i'm\": 12, 'ever': 12, 'see': 12, 'which': 12, 'models': 12, 'это': 12, 'как': 12, 'но': 12, 'am': 12, 'с': 10, 'many': 10, 'since': 10, 'between': 10, 'it.': 10, '1': 10, 'when': 10, 'who': 10, 'anything': 10, 'игра': 10, 'should': 10, 'well': 10, 'fan': 10, 'experience': 10, 'down': 10, 'pretty': 10, 'loot,': 10, 'sell': 10, 'skills': 10, 'time,': 10, 'without': 10, 'level': 10, 'go': 10, 'inventory': 10, 'dark': 10, 'music': 10, 'where': 10, 'classic': 10, 'я': 10, 'job': 10, 'd2': 10, 'online': 10, 'know': 10, 'way': 10, 'think': 10, 'ever!': 10, 'i’m': 10, 'так': 10, 'ignore': 10, 'times': 8, 'say': 8, 'great.': 8, 'original,': 8, 'while': 8, 'released': 8, 'annoying': 8, '8': 8, 'full': 8, 'items': 8, 'off': 8, 'ugly': 8, 'create': 8, 'absolutely': 8, 'bought': 8, 'bombing': 8, 'find': 8, 'buy': 8, 'again.': 8, 'looks': 8, 'quality': 8, 'ii': 8, 'playstation': 8, 'hardcore': 8, 'left': 8, 'repetitive': 8, 'keep': 8, 'hundreds': 8, 'die': 8, 'lost': 8, 'their': 8, 'getting': 8, 'skill': 8, 'love': 8, 'coming': 8, 'visuals': 8, 'sounds': 8, 'going': 8, 'cannot': 8, 'servers': 8, '3': 8, 'vv': 8, 'modern': 8, 'things': 8, 'added': 8, \"don't\": 8, '4': 8, 'perfect': 8, 'actually': 8, \"can't\": 8, 'mode': 8, 'because': 8, 'right': 8, 'pc': 8, 'expect': 8, 'censored': 8, 'able': 8, 'старте': 8, 'а': 8, '0': 8, 'first': 8, 'far': 8, '2.': 6, 'lack': 6, 'lose': 6, 'soon': 6, 'space': 6, 'making': 6, 'huge': 6, 'couple': 6, '1-2': 6, 'put': 6, 'skills,': 6, \"that's\": 6, 'lots': 6, 'd3,': 6, 'means': 6, 'characters': 6, 'me.': 6, 'people': 6, 'game!': 6, 'again': 6, 'seems': 6, 'minor': 6, 'life': 6, 'made': 6, 'ago,': 6, '5': 6, 'ok,': 6, 'remaster,': 6, 'remake,': 6, 'saw': 6, 'understand': 6, 'talk': 6, 'kill': 6, '•': 6, 'button': 6, 'attack': 6, 'run': 6, 'feels': 6, 'upgrade': 6, 'went': 6, 'favorite': 6, 'nothing': 6, 'town': 6, 'amazing.': 6, 'animations': 6, 'graphic': 6, 'sound': 6, 'final': 6, 'manage': 6, 'kind': 6, 'remake': 6, 'launch': 6, 'connectivity': 6, 'gets': 6, 'days': 6, 'cant': 6, 'play.': 6, 'around': 6, 'sony': 6, 'two': 6, 'last': 6, 'leaving': 6, 'those': 6, 'dungeon': 6, 'awesome': 6, 'year': 6, 'nostalgia': 6, '2020': 6, 'never': 6, 'gold': 6, 'lobby': 6, 'join': 6, 'ability': 6, 'side': 6, 'changes': 6, 'it,': 6, 'maybe': 6, 'gave': 6, 'nice': 6, 'friends': 6, 'loot': 6, 'few': 6, 'server': 6, 'make': 6, 'worth': 6, 'school': 6, 'looking': 6, 'switch': 6, 'og': 6, 'else': 6, 'option': 6, 'changed': 6, \"i've\": 6, 'that,': 6, '$40': 6, 'usually': 6, 'beautiful': 6, 'amazon': 6, 'faces': 6, 'except': 6, 'просто': 6, 'минус': 6, 'у': 6, 'beta': 6, 'visual': 6, 'connection': 6, 'enjoy': 6, 'come': 6, 'wanted': 6, 'resurrected': 6, 'care': 6, 'spend': 6, 'finally': 6, 'knew': 6, 'было': 6, 'not.': 6, 'wait': 6, 'turned': 6, 'играть': 6, 'post': 6, 'least': 6, 'ugly...': 6, 'y': 6, 'играл': 4, 'получал': 4, 'удовольствие': 4, 'игры': 4, 'один': 4, 'при': 4, 'игре': 4, 'remains': 4, 'immortal': 4, '20.': 4, 'genre': 4, 'always': 4, 'disconnections': 4, 'iconic': 4, 'problem': 4, 'suffers': 4, 'd3': 4, 'base': 4, \"doesn't\": 4, 'room': 4, '--the': 4, 'designed': 4, 'certain': 4, 'necromancer': 4, 'obvious': 4, 'skeletons.': 4, 'own': 4, 'future': 4, 'sometimes': 4, 'time.': 4, 'week': 4, 'bugs': 4, 'servers.': 4, 'recommend': 4, 'simply': 4, 'gorgeous': 4, 'plays': 4, 'fresh': 4, 'practically': 4, 'videos': 4, 'darker': 4, 'controller': 4, 'setting': 4, 'given': 4, 'complete': 4, 'happened': 4, 'people,': 4, 'quests,': 4, 'thousands': 4, 'way,': 4, 'formula': 4, 'worked': 4, 'either': 4, 'let': 4, 'press': 4, 'take': 4, 'back,': 4, 'times.': 4, 'gear': 4, 'mean,': 4, 'hit': 4, 'foes': 4, 'strikes': 4, 'npc': 4, 'progression': 4, 'strong': 4, 'else.': 4, 'focus': 4, 'single': 4, 'specific': 4, 'paladin': 4, 'makes': 4, 'store': 4, 'easily': 4, 'areas': 4, 'iii,': 4, 'good.': 4, 'its': 4, 'done,': 4, 'series': 4, 'revamped': 4, 'nostalgia,': 4, 'completely': 4, 'gameplay,': 4, 'yourself': 4, 'rather': 4, 'small': 4, '40': 4, 'логово': 4, 'играю': 4, 'diablo2': 4, 'months': 4, 'crashed': 4, 'start': 4, 'talking': 4, 'blizzard.': 4, 'latest': 4, 'wow': 4, 'unplayable.': 4, 'stay': 4, 'refund': 4, 'luck': 4, 'dont': 4, 'sad': 4, 'warcraft': 4, \"what's\": 4, 'adding': 4, 'improvements.': 4, 'started': 4, 'was.': 4, 'fantastic': 4, 'ai': 4, 'design': 4, \"vv's\": 4, 'barely': 4, 'told': 4, \"you're\": 4, 'bad.': 4, 'said': 4, 'shared': 4, 'across': 4, 'another': 4, '2,': 4, 'later,': 4, 'until': 4, 'l2+touchpad': 4, 'looked': 4, 'already': 4, 'specifically': 4, 'loot.': 4, 'that.': 4, 'bad,': 4, 'constantly': 4, 'dungeons': 4, 'naked': 4, 'weren’t': 4, 'brought': 4, ':)': 4, 'far,': 4, 'save': 4, 'd2r': 4, 'must': 4, \"didn't\": 4, 'high': 4, 'action': 4, 'idiots': 4, 'expected': 4, 'release.': 4, 'support': 4, 'also': 4, 'especially': 4, 'corpse': 4, 'compared': 4, 'point': 4, 'performance': 4, '60fps': 4, 'fantastic.': 4, 'multiplayer': 4, 'in.': 4, 'overall,': 4, '7': 4, 'hell': 4, '99': 4, 'initially': 4, 'internet': 4, 'running': 4, 'currently': 4, 'hours,': 4, 'definitely': 4, 'graphics,': 4, 'replay': 4, 'trying': 4, 'un': 4, 'была': 4, 'intervention': 4, 'thus': 4, 'there’s': 4, 'enemy': 4, 'paint': 4, 'progress': 4, 'say,': 4, 'то,': 4, 'серверы': 4, 'из': 4, 'которым': 4, 'этого': 4, 'offline,': 4, 'saved': 4, 'unless': 4, 'can’t': 4, 'access': 4, 'both': 4, 'through': 4, 'player': 4, 'pc.': 4, 'buying': 4, 'consoles.': 4, 'updated': 4, 'is.': 4, 'подключении': 4, 'к': 4, 'поддержка': 4, 'персонажей': 4, 'целом': 4, '4k': 4, 'seem': 4, 'countless': 4, 'glory': 4, 'd2s': 4, 'didn’t': 4, 'out.': 4, 'wasn’t': 4, 'away': 4, 'remembered': 4, 'certainly': 4, 'travel': 4, 'created': 4, 'came': 4, 'now,': 4, 'before': 4, 'version': 4, 'classes': 4, 'they’ve': 4, 'aged': 4, 'less': 4, 'true': 4, 'doesn’t': 4, 'place': 4, 'fix': 4, 'знаю': 4, 'жалуются.': 4, 'никаких': 4, 'меня': 4, 'приятно,': 4, 'игру': 4, 'игра,': 4, 'о': 4, 'чем': 4, 'работает': 4, 'время': 4, 'по': 4, 'персонаж': 4, 'ровно': 4, 'easy': 4, 'something': 4, 'blizzard,': 4, 'оценки': 4, '2000.': 4, 'world': 4, 'return': 4, 'вышла': 4, 'кто': 4, 'be.': 4, 'ratings': 4, 'now.': 4, 'avx': 4, 'instead': 4, '60': 4, 'this.': 4, 'years,': 4, 'players.': 4, 'work': 4, 'remaster.': 4, 'such': 4, 'персонажи': 4, 'babies.': 4, 'vicarious': 4, 'visions': 4, 'оригинал,': 2, 'братом.': 2, 'чего-то': 2, 'такого': 2, 'ждал': 2, 'игры,': 2, 'где': 2, 'накатанный': 2, 'фильтр': 2, 'классическую': 2, 'игру,': 2, 'был': 2, 'приятно': 2, 'удивлен.': 2, 'всем': 2, 'хорошей': 2, 'игры!': 2, 'videogame': 2, 'inspired': 2, 'standard': 2, '..': 2, '...': 2, 'dip': 2, 'early': 2, '2000s.': 2, '0s': 2, 'dictated': 2, 'ignorance.the': 2, 'news': 2, 'shortcoming': 2, '..it': 2, 'crossplay': 2, 'fewer': 2, 'playing.': 2, 'acceptable,': 2, 'd4,': 2, 'along': 2, 'similar': 2, 'd2,': 2, 'becomes': 2, 'quickly.': 2, '--bag': 2, 'small,': 2, 'teleport': 2, 'lot.': 2, 'spears': 2, 'taking': 2, 'spaces,': 2, 'runes,': 2, 'bag': 2, 'items.': 2, '--why': 2, 'cain': 2, 'identify': 2, 'cube?': 2, '--builds': 2, 'exclusive.': 2, '3/4': 2, 'does': 2, 'leave': 2, 'experimentation,': 2, 'reset': 2, 'per': 2, 'playthrough.': 2, 'environment': 2, 'piss': 2, 'obstacles.': 2, 'comparison': 2, \"isn't\": 2, 'smooth.': 2, 'hell.': 2, 'major': 2, 'thing,': 2, 'noted.': 2, '--same': 2, 'flaws': 2, 'classes.': 2, 'e.g.': 2, 'summoner': 2, 'one.': 2, 'skeletons': 2, 'golem,': 2, 'walk': 2, 'diablos': 2, 'lair,': 2, 'fire': 2, 'blast,': 2, 'dead,': 2, 'bodies': 2, 'raise': 2, 'deep': 2, 'trouble.': 2, 'solved': 2, 'allowing': 2, 'bodies/skeletons.': 2, 'fun': 2, 'enough,': 2, 'lessons': 2, 'learned': 2, 'games.': 2, 'ive': 2, 'weeks.': 2, 'patches.': 2, 'consistently': 2, 'crashes.': 2, 'losing': 2, 'unacceptable': 2, 'implement': 2, 'autosave': 2, 'feature.': 2, 'younger': 2, 'hits': 2, 'spot': 2, 'release': 2, 'clowns': 2, 'upset': 2, 'about.': 2, 'brilliant': 2, 'шикарная': 2, 'устаревающая': 2, 'засияла': 2, 'новыми': 2, 'красками!': 2, 'рекомендую': 2, 'diablo.': 2, 'pad': 2, 'skin': 2, \"advertised...that's\": 2, 'improvements': 2, 'enjoyable,': 2, 'coat': 2, 'paint.': 2, 'resurrection': 2, 'reviewed': 2, 'die-hard': 2, 'original.': 2, 'beat': 2, 'felt': 2, 'compelled': 2, 'gothic.': 2, 'stressed': 2, 'wanting': 2, 'going.': 2, 'adventurer': 2, 'starts': 2, 'camp': 2, 'several': 2, 'missions': 2, 'order': 2, 'move': 2, 'set': 2, 'quest': 2, 'diablo,': 2, 'straight': 2, 'forward…': 2, 'gear,': 2, 'powerful.': 2, 'tediousness': 2, 'mechanics': 2, 'combat:': 2, 'it!': 2, 'pressed': 2, 'automatically': 2, 'combine': 2, 'different': 2, 'enemies.': 2, 'overwhelm': 2, 'you,': 2, 'die…': 2, 'smash': 2, 'them,': 2, 'away,': 2, 'repeating': 2, 'thing': 2, 'millions': 2, 'rush': 2, 'claim': 2, 'gold.': 2, 'ago': 2, 'mechanic': 2, 'nowadays': 2, 'bad…': 2, 'freaking': 2, '“x”': 2, 'missed': 2, 'time…': 2, 'continuously': 2, 'land': 2, 'leisure': 2, 'issues.': 2, 'discouraging': 2, 'boring!': 2, 'menu': 2, 'management:': 2, 'simple': 2, 'based': 2, 'weapons': 2, 'are.': 2, 'stats': 2, 'equipment,': 2, 'tree.': 2, 'unlock': 2, 'working': 2, 'paths': 2, 'tree,': 2, 'ability.': 2, 'regeneration': 2, 'vitality': 2, 'one,': 2, 'plenty.': 2, 'terms': 2, 'understanding': 2, 'world,': 2, 'usual': 2, 'stuff:': 2, 'point,': 2, 'bosses,': 2, 'task,': 2, 'npc.': 2, 'here,': 2, 'complicated': 2, 'exploration': 2, 'part': 2, 'minimalistic': 2, 'management': 2, 'goods': 2, 'chest.': 2, 'stacked': 2, 'ceaselessly.': 2, 'approach': 2, 'seas': 2, 'models,': 2, 'grimmer': 2, 'fluid,': 2, 'feeling': 2, 'beautifully': 2, 'enhanced.': 2, 'npcs': 2, 'caves': 2, 'light,': 2, 'blood': 2, 'guts': 2, 'foes…': 2, 'department': 2, 'acoustics': 2, 'damn': 2, 'liked': 2, 'score': 2, 'inspiration.': 2, 'voice': 2, 'acting': 2, 'ambient': 2, 'kept': 2, 'explore': 2, 'regardless': 2, 'boring': 2, 'gameplay.': 2, 'verdict:': 2, 'verdict': 2, '5.0': 2, 'packed': 2, 'outdated,': 2, 'mem': 2, 'casual': 2, 'rpg': 2, 'gamer,': 2, 'bear': 2, 'cycle': 2, 'over,': 2, 'again:': 2, 'kill,': 2, 'sell,': 2, 'buy,': 2, 'improve.': 2, 'me…': 2, 'digital': 2, 'edition,': 2, 'ask': 2, 'refund,': 2, 'sort': 2, 'immerse': 2, 'experience,': 2, 'understandable': 2, 'leaves': 2, 'amazed': 2, 'well.': 2, '2nd': 2, 'act,': 2, \"larva's\": 2, 'lair': 2, 'narrow': 2, 'corridors,': 2, 'blunt': 2, 'stand': 2, 'behind,': 2, 'hands.': 2, 'reach': 2, 'third': 2, 'den': 2, 'minutes': 2, 'crash.': 2, '2ой': 2, 'акт,': 2, 'личинки': 2, 'узкие': 2, 'коридоры,': 2, 'некромантом': 2, 'со': 2, 'скелетами.': 2, 'они': 2, 'тупят': 2, 'стоят': 2, 'сзади,': 2, 'убиваю': 2, 'врагов': 2, 'почти': 2, 'руками.': 2, 'дохожу': 2, 'до': 2, '3ого': 2, 'уровня': 2, 'минут': 2, 'тут': 2, 'падают': 2, 'сервера.': 2, 'unbelievable.': 2, 'worst': 2, 'released.': 2, 'im': 2, 'fan,': 2, 'preorded': 2, 'reached': 2, 'act3': 2, 'sent': 2, 'act2': 2, 'act3.': 2, 'f@ck': 2, 'really.': 2, 'warcraft1': 2, 'enough.': 2, 'f-us': 2, 'warcraft3': 2, 'expansions': 2, 'd2r.': 2, 'away.': 2, 'btw': 2, 'wont': 2, 'ps4-5......': 2, 'bombed.': 2, 'growing': 2, 'ii.': 2, 'record': 2, 'hated': 2, 'hate': 2, 'years.': 2, 'dialbo': 2, 'be,': 2, 'intact': 2, 'mother': 2, 'remasters.': 2, 'granddaddy': 2, 'crawlers': 2, 'reanimate': 2, 'former': 2, 'self,': 2, 'bits': 2, 'assistance': 2, 'dicking': 2, 'truly': 2, \"couldn't\": 2, 'answer': 2, 'phone': 2, 'with...': 2, 'ps5!': 2, 'ported': 2, 'and,': 2, 'correct,': 2, 'mouse': 2, 'keyboard': 2, 'diablo!': 2, 'squaring': 2, 'impossible': 2, 'circle': 2, 'controllers.====d2:r': 2, 'passes': 2, 'test': 2, 'some.': 2, 'redone.': 2, 'spells': 2, 'beautiful...': 2, 'while,': 2, 'remastered': 2, 'originals.': 2, 'source': 2, 'code.': 2, 'unchanged.': 2, 'abusable': 2, 'abusable.': 2, 'remember,': 2, 'kicks': 2, 'ass.but': 2, 'papa': 2, 'rngesus.': 2, 'example,': 2, '\"auto': 2, 'pick-up\",': 2, \"friend's\": 2, 'list': 2, 'quickly': 2, 'buddies,': 2, 'compare': 2, 'flipping': 2, 'two.': 2, 'monumental': 2, 'additions': 2, 'helpful': 2, 'background': 2, '=because=': 2, 'ought': 2, 'noticeable': 2, '(warcraft': 2, 'reforged': 2, 'example': 2, 'do).===some': 2, 'do!': 2, 'me!': 2, '\"information': 2, 'book': 2, 'cd\"': 2, 'anymore!': 2, 'guidance': 2, 'play!': 2, 'd2:r': 2, 'handholding': 2, 'dimmest': 2, 'person': 2, 'figure': 2, '\"x': 2, 'attack\".': 2, \"2's\": 2, 'sink': 2, 'swim': 2, 'gamer.': 2, '\"here\\'s': 2, 'masterpiece': 2, 'crawler': 2, 'rocket': 2, 'science,': 2, 'discover': 2, 'details': 2, 'yourself.': 2, 'trying.\"': 2, 'google': 2, 'dolt.some': 2, 'organizing': 2, 'pain.': 2, 'scroll': 2, 'portal?': 2, 'stopped': 2, 'picking': 2, 'useless': 2, 'garbage': 2, 'vacuum': 2, 'cleaner,': 2, \"wouldn't\": 2, 'besides': 2, '\"suck': 2, 'princess\".': 2, 'extra': 2, 'stashes': 2, 'characters,': 2, 'mules': 2, 'transfer': 2, 'anymore.': 2, 'hey': 2, 'touch,': 2, 'violating': 2, 'spirit': 2, 'about.===bottom': 2, 'line': 2, 'translated': 2, 'skipping': 2, 'beat,': 2, 'yesterday.': 2, 'tribute': 2, 'decades': 2, 'warts': 2, 'all,': 2, 'shown': 2, 'goat': 2, 'nearly': 2, 'remade': 2, 'incredibly': 2, 'detailed': 2, \"you'll\": 2, 'swear': 2, 'original..': 2, 'like.': 2, 'joy': 2, '53,': 2, 'stop.': 2, 'together.': 2, 'ridiculous': 2, 'point.': 2, 'friends,': 2, 'cannot.': 2, 'refund.': 2, '(this': 2, 'ps5)': 2, 'style': 2, 'items,': 2, 'crafting,': 2, 'rune': 2, 'words,': 2, 'exceptional.': 2, 'story': 2, 'fantastic,': 2, 'happy': 2, 'tiny': 2, 'micro': 2, 'potion': 2, 'bar,': 2, 'forth': 2, 'offload': 2, 'dying': 2, 'gauntlet': 2, 'feel': 2, 'horrible.': 2, 'though,': 2, 'blast': 2, '2021.': 2, 'fest': 2, 'including': 2, 'unneeded': 2, 'exploding': 2, 'potions.': 2, 'ended': 2, 'limbo': 2, 'power': 2, 'opened.': 2, 'bump': 2, 'rating': 2, 'cross': 2, 'reasons': 2, 'ago:': 2, 'd.': 2, 'king': 2, 'looter': 2, 'rpgs': 2, 'ever.': 2, 'yet': 2, 'normally': 2, 'describing': 2, 'puppeting': 2, 'sound.': 2, 'gamers': 2, 'current': 2, 'pressing': 2, 'l2': 2, 'sensor': 2, 'shows': 2, 'journey': 2, 'cinematics': 2, 'noticed': 2, 'cleaner.': 2, 'obviously': 2, 'breath': 2, 'air.': 2, \"necromancer's\": 2, 'explosion': 2, 'blow': 2, 'auto': 2, 'aim': 2, 'strategical': 2, 'click': 2, 'mouse.': 2, 'although,': 2, 'faster': 2, 'mapping': 2, 'buttons': 2, 'shoulder': 2, 'buttons.': 2, 'love.': 2, 'gives': 2, 'known': 2, 'stuttery': 2, 'hitting': 2, '30.': 2, 'weapon': 2, 'hdr': 2, 'crawling': 2, 'ease': 2, 'addressed,': 2, 'key': 2, 'stash.': 2, 'found': 2, 'easier': 2, 'invite': 2, 'friend': 2, 'private': 2, 'pure': 2, 'hit,': 2, \"i'll\": 2, 'invested': 2, 'heroes': 2, 'platinum': 2, '(looks': 2, 'lvl': 2, 'fear).': 2, '9': 2, 'preface:': 2, 'n00be,': 2, 'brief': 2, 'reaper': 2, 'souls.': 2, 'whole': 2, 'acton/rpg': 2, 'personified,': 2, 'popular.': 2, 'booting': 2, '(creating': 2, 'battle.net': 2, 'account': 2, 'pain': 2, '@ss).': 2, 'connection.': 2, 'negative': 2, 'reviews': 2, \"you'd\": 2, '56k': 2, 'modem.': 2, 'building': 2, 'assassin': 2, 'scratch': 2, 'solo.': 2, 'works': 2, 'addicting': 2, 'though': 2, 'most': 2, 'part.': 2, 'grindy': 2, 'action/rpg.': 2, 'insane': 2, 'value,': 2, 'considering': 2, 'thousand': 2, 'value.': 2, \"rpg's,\": 2, 'consider': 2, 'recent': 2, 'titles': 2, 'enjoying': 2, 'far!': 2, 'playable,disconnections': 2, 'censoring,': 2, 'etc.': 2, 'visually': 2, 'gorgeous,': 2, 'technically': 2, 'fked': 2, 'real': 2, 'been.': 2, \"game's\": 2, '12': 2, 'mapped': 2, 'god': 2, 'send.': 2, 'цензура': 2, 'зло,': 2, 'любом': 2, 'своем': 2, 'проявлении.': 2, 'сколь': 2, 'большой': 2, 'ни': 2, 'работа,': 2, 'нельзя': 2, 'вычеркивать': 2, 'видение': 2, 'автора.': 2, 'minimum': 2, 'toggleable.': 2, 'rate,': 2, 'apart': 2, 'from:1.': 2, 'visuals.': 2, '3d': 2, 'strapped': 2, 'onto': 2, '2d': 2, 'engine.': 2, 'intro': 2, 'cinematics,': 2, 'environment,': 2, 'item': 2, 'redesigns,': 2, 'cool': 2, 'reimagining': 2, 'vfx…': 2, 'the:a)': 2, 'censorship': 2, 'monastery': 2, 'jail': 2, 'catacombs': 2, 'admit': 2, 'itb)': 2, 'unnecessary': 2, 'anti-objectification': 2, 'assassin’s': 2, 'ass': 2, 'suddenly': 2, 'turning': 2, 'skin-toned': 2, 'trousers,': 2, 'boobs': 2, 'dropping': 2, 'sizes,': 2, 'sorceress': 2, 'underboob': 2, 'covered': 2, 'on…': 2, 'korean': 2, 'mmorpg,': 2, 'obviously,': 2, 'social': 2, 'boundaries': 2, 'education': 2, 'either.c)': 2, 'hero': 2, 'hair': 2, 'white': 2, 'tell': 2, 'necromancer.': 2, 'pleasant,': 2, 'unattractive?2.': 2, 'performance.': 2, 'party': 2, 'members': 2, 'situation': 2, 'steadily': 2, 'improving': 2, 'since,': 2, 'happens': 2, 'launches.': 2, 'overreaction': 2, 'opinion.so': 2, 'bottomline': 2, 'is:': 2, 'i’d': 2, 'price.': 2, 'legendary': 2, 'thanks.': 2, 'бессмертная': 2, 'классика': 2, 'заглянула': 2, 'теперь': 2, 'консоли': 2, 'нового': 2, 'поколения,': 2, 'играется': 2, 'великолепно!': 2, 'офигенная,': 2, 'самое': 2, 'главное': 2, 'оставили': 2, 'есть,': 2, 'имелись': 2, 'проблемы': 2, 'серверами,': 2, 'сейчас': 2, 'есть': 2, 'небольшой': 2, 'рассинхрон': 2, 'временами,': 2, 'мелочи.': 2, 'первые': 2, 'пару': 2, 'недель': 2, 'можно': 2, 'поиграть': 2, 'одиночку,': 2, 'полюбоваться': 2, 'проделанной': 2, 'работой,': 2, 'там': 2, 'раз': 2, 'пофиксят,': 2, 'сезон': 2, 'запустят': 2, 'первый.': 2, 'объективно': 2, 'бы': 2, 'поставил': 2, 'этой': 2, '8.5/10,': 2, 'балл': 2, 'цену,': 2, 'ремастер': 2, 'считаю': 2, 'немного': 2, 'перебор,': 2, 'полбалла': 2, 'сервера,': 2, 'поставлю': 2, 'конченных': 2, 'сонибоев,': 2, 'завезли': 2, 'геймплей': 2, 'кнопку': 2, '\"стать': 2, 'уровнем\",': 2, 'них': 2, 'пердак': 2, 'сгорел,': 2, 'отразилось': 2, 'общей': 2, 'оценке.': 2, 'man,': 2, 'trusts': 2, 'critics,': 2, 'sucks,': 2, 'fine': 2, 'rr': 2, 'yeah': 2, 'deserves': 2, '83.': 2, 'writing': 2, 'version.': 2, 'i,': 2, 'fine;': 2, 'open': 2, 'adjusted': 2, 'options': 2, 'turn': 2, 'effects,': 2, 'scaled': 2, 'resolution,': 2, 'selected': 2, 'mode.': 2, 'lag': 2, 'screen,': 2, '7-9': 2, 'second': 2, 'delay,': 2, '“your': 2, 'interrupted.”i': 2, 'decided': 2, 'story.': 2, 'specify': 2, 'character.': 2, 'wouldn’t': 2, 'use': 2, 'offline': 2, 'gameplay?': 2, 'asinine.': 2, 'company': 2, 'that’s': 2, '40+': 2, 'problems': 2, 'progress.': 2, 'purchase': 2, 'to.': 2, 'loved': 2, 'laggy,': 2, 'twitchy,': 2, 'interrupted': 2, 'adventure.': 2, 'thumbs': 2, 'blizzard!': 2, 'basically': 2, 'console.': 2, 'terrible': 2, 'system.': 2, 'console,': 2, 'ssf.if': 2, 'dead': 2, 'arrival': 2, 'knowing': 2, 'holding': 2, 'breath.': 2, 'ps': 2, 'pro': 2, 'perfect,': 2, 'life,': 2, 'perfect.': 2, 'initial': 2, '9,': 2, 'appears': 2, 'fixed': 2, 'bug': 2, 'caused': 2, 'glitch.': 2, 'wanted,': 2, 'delivered!': 2, 'remember': 2, 'childhood,': 2, 'graphics.': 2, 'awesome!': 2, '1.': 2, 'вылетает': 2, 'серверу': 2, 'ошибкой': 2, 'ce-108255-1,': 2, 'морозится!': 2, 'знает,': 2, 'цирк,': 2, 'обещают': 2, 'разобраться.': 2, 'разделение': 2, 'сингловых': 2, 'онлайн': 2, 'глупость!': 2, 'начал': 2, 'играть,': 2, 'значит': 2, 'потом': 2, 'вместе': 2, 'нельзя..': 2, 'p.s': 2, 'жду': 2, 'дождусь': 2, 'когда': 2, 'котика': 2, 'торкнут': 2, 'активижн,': 2, 'приходом': 2, 'жадного': 2, 'человека,': 2, 'компания': 2, 'опускается': 2, 'дно.': 2, 'silky': 2, 'smooth': 2, '65“': 2, 'widescreen.': 2, 'music,': 2, 'addiction': 2, 's': 2, 'ago.': 2, 'stable': 2, 'too.': 2, 'down!': 2, 'oh': 2, 'spent': 2, 'college': 2, 'vaio': 2, 'laptop.': 2, 'stationed': 2, 'desk': 2, 'corner': 2, 'efficiency': 2, 'apartment,': 2, 'equipped': 2, 'drink,': 2, 'snack': 2, 'enhancements': 2, 'angry': 2, 'ex-girlfriend': 2, 'yelling': 2, 'life.': 2, 'forge': 2, 'ahead': 2, 'deeper': 2, 'bowels': 2, 'hell,': 2, 'seeking': 2, 'youth': 2, 'ps1/pc,': 2, 'broader': 2, 'scope': 2, 'class': 2, 'system': 2, 'hooked.': 2, 'barbarian': 2, 'tank,': 2, 'plowing': 2, 'hoards': 2, 'challenged': 2, 'toughest': 2, 'foes,': 2, 'hardest': 2, 'modes': 2, 'bowed': 2, 'me,': 2, 'perfected.': 2, 'indeed.when': 2, 'heard': 2, 'd2:': 2, 'torn,': 2, 'particularly': 2, 'perhaps': 2, 'tainting': 2, 'memory': 2, 'engaging': 2, 'bliss': 2, 'felt?': 2, 'alas': 2, 'arrived,': 2, 'death': 2, 'stranding': 2, 'downloaded': 2, 'pondering': 2, 'whether': 2, 'flip': 2, 'apprehensive': 2, 'did.': 2, 'blown': 2, 'graphical': 2, 'upgrades,': 2, 'fact': 2, 'flipped': 2, 'legacy': 2, 'developers': 2, 'layer': 2, 'maintaining': 2, 'mood': 2, 'feel.': 2, 'feature': 2, 'upgrades': 2, 'speak': 2, 'of,': 2, 'regular': 2, 'stash': 2, 'miss': 2, 'target,': 2, 'fairly': 2, 'linear': 2, 'guided.': 2, 'said,': 2, 'sucked': 2, 'in!': 2, 'ventured': 2, 'rouge': 2, 'encampment': 2, 'newly': 2, 'began': 2, 'slaying': 2, 'demons': 2, 'gathering': 2, 'potions': 2, 'against': 2, 'backdrop': 2, 'soundtrack': 2, 'won’t': 2, 'pour': 2, 'iteration': 2, 'mean': 2, 'wife,': 2, 'mortgage': 2, 'spending': 2, 'universe': 2, 'lay': 2, 'sword': 2, 'unplayable,': 2, 'keeps': 2, 'crashing': 2, 'deleting': 2, 'savegames.': 2, 'restart': 2, 'beginning': 2, 'twice.': 2, 'blizzard’s': 2, 'looter.': 2, 'bragging': 2, 'attention': 2, 'detail': 2, 'replicate': 2, 'original’s': 2, 'couldn’t': 2, 'basics': 2, 'right?': 2, '“remaster”.': 2, 'man': 2, 'her': 2, 'outfits': 2, 'appear': 2, 'sexualized.': 2, '“female”': 2, 'male': 2, 'tired': 2, 'men.': 2, 'funny': 2, 'okay': 2, 'deranged': 2, 'liberals': 2, 'sexualize': 2, 'underage': 2, 'girls': 2, 'trash': 2, '“cuties”': 2, 'adult': 2, 'females': 2, 'fantasy': 2, 'sexualization.': 2, 'backgrounds.': 2, 'outrage': 2, 'fans': 2, 'designs': 2, 'condition': 2, 'anyway.': 2, 'reason': 2, 'uncensored': 2, 'defeats': 2, 'purpose': 2, 'present.': 2, '“remaster”': 2, 'money': 2, 'unbastardized': 2, 'available': 2, 'внешнему': 2, 'виду': 2, 'претензий': 2, 'нет.': 2, 'да': 2, 'амазонке': 2, 'поправили': 2, 'модельку': 2, 'сторону': 2, 'меньше': 2, 'сексуализации,': 2, 'захожу': 2, 'чтобы': 2, '…': 2, 'ну': 2, 'вы': 2, 'поняли.': 2, 'касается': 2, 'баланса': 2, 'эта': 2, 'та': 2, 'же': 2, '2000,': 2, 'известно': 2, 'заранее,': 2, 'обычный': 2, 'ремастер.': 2, 'техническом': 2, 'состоянии': 2, 'пока': 2, 'судить': 2, 'рано,': 2, 'сетевой': 2, 'код': 2, 'лучше,': 2, 'во': 2, 'открытой': 2, 'беты.': 2, 'крайней': 2, 'мере': 2, 'регистрация': 2, 'попаданий': 2, 'отлично.': 2, 'пропадал.': 2, 'вот': 2, 'зайти': 2, 'первый': 2, 'день': 2, 'смог,': 2, 'может': 2, 'огорчать.': 2, 'завышать': 2, 'оценку': 2, 'вижу': 2, 'смысла,': 2, 'обделаться': 2, 'равно': 2, 'умудрились,': 2, 'занижать': 2, 'оценку,': 2, 'сути,': 2, 'тоже': 2, 'что.': 2, 'мы': 2, 'получили': 2, 'нам': 2, 'показывали': 2, 'обещали.': 2, 'хороший': 2, 'ремейк.': 2, 'проблем': 2, 'увидел': 2, 'слова': 2, 'совсем,': 2, 'почему': 2, 'другие': 2, 'thought': 2, 'wrong.': 2, 'rubbish.': 2, 'disconnects,': 2, 'says': 2, 'anymore': 2, 'again,': 2, 'connection,': 2, '500': 2, 'mb/s!': 2, 'longest': 2, 'downloads': 2, '2021!': 2, 'send': 2, 'refused': 2, 'return!': 2, 'отличная': 2, 'отрицательные': 2, 'ставят': 2, 'какие-то': 2, 'троли': 2, 'пропадают': 2, 'сохранения.': 2, 'абсолютно': 2, 'неиграбельна': 2, 'из-за': 2, 'этого.': 2, 'хватит': 2, 'их': 2, 'кормить,': 2, 'покупайте': 2, 'эту': 2, 'игру.': 2, 'dos': 2, 'kid': 2, '1990s,': 2, 'bulbous': 2, 'red': 2, 'crt': 2, 'imac': 2, 'outstanding': 2, 'disappointed': 2, 'used': 2, 'cartoon': 2, 'language': 2, 'borrowed': 2, 'warcraft,': 2, 'essentially': 2, 'sequel': 2, '(you': 2, 'order,': 2, 'aren’t': 2, 'bigger,': 2, 'etc.).': 2, 'exact': 2, 'shiny': 2, 'literally': 2, 'top': 2, 'finding': 2, 'expected,': 2, 'further': 2, 'i’ve': 2, 'played.': 2, 'giving': 2, 'doing': 2, 'intended–': 2, 'was,': 2, 'updating': 2, 'equivalent.': 2, 'you’re': 2, 'young': 2, 'these,': 2, 'might': 2, 'you.': 2, 'mind': 2, 'september': 2, '11th,': 2, '2001': 2, 'happened.': 2, 'revolutionary': 2, 'advancements': 2, 'gaming': 2, 'achieved': 2, 'since.': 2, 'mind,': 2, 'video': 2, 'gimmicky': 2, 'all.': 2, 'super': 2, 'old,': 2, 'dunno.': 2, 'happen.': 2, 'hoping': 2, 'd4': 2, 'appeal': 2, 'form.': 2, 'everyone': 2, 'originals': 2, 'he': 2, 'more…': 2, 'evil': 2, 'remind': 2, 'youthis': 2, 'remastered,': 2, 'remakewhat': 2, 'becomepeople': 2, 'retarded...': 2, 'al': 2, 'due': 2, 'mumbling': 2, 'silly': 2, 'stuff': 2, 'shame': 2, 'all!': 2, 'revamp': 2, 'solid': 2, 'old!': 2, 'sends': 2, 'child!': 2, '10/10the': 2, 'reissue': 2, 'blizzard!!!': 2, 'surprisingly': 2, 'well,': 2, 'add': 2, 'lobby/multiplayer': 2, 'experience.': 2, 'excellent!': 2, 'thank': 2, '15': 2, 'years!': 2, 'tv': 2, 'шикарной,': 2, 'планировалось': 2, 'ожидать': 2, 'ремастера,': 2, 'те': 2, 'хотели': 2, 'изменений': 2, 'геймплея,': 2, 'могут': 2, 'дальше': 2, 'ждать': 2, '4ой': 2, 'части.': 2, 'stunning.': 2, 'expected.': 2, 'memories': 2, 'lags': 2, 'beginning,': 2, 'ok': 2, 'amazing!': 2, 'dumb?': 2, \"it'\": 2, 'awesome,': 2, 'бал': 2, 'отсутсвие': 2, 'кроссплея.': 2, 'жаль': 2, 'для': 2, 'предзаказа': 2, 'банусов.': 2, 'прошел': 2, 'акт': 2, ',': 2, 'косяка': 2, 'было.': 2, 'начинал': 2, 'игры.': 2, 'вылетов': 2, '(': 2, 'сети': 2, ')': 2, '10из10.': 2, 'оригинал.': 2, 'прям': 2, 'зашло.': 2, 'player,': 2, 'loving': 2, 'bunch': 2, 'whiners': 2, 'saying.': 2, 'cooping': 2, 'blast.': 2, 'we’re': 2, 'sadly': 2, 'age': 2, 'whining': 2, 'pathetically': 2, 'do.': 2, 'prob': 2, 'user': 2, 'cause': 2, 'become': 2, 'reliable': 2, 'log': 2, 'ran': 2, 'perfectly.': 2, 'admitted': 2, 'accidently': 2, 'live': 2, 'unintentional.': 2, 'decide': 2, 'streamers': 2, 'fixing': 2, 'stopping': 2, '10s': 2, 'players': 2, 'pre': 2, 'ordered.': 2, 'form': 2, '30': 2, '000': 2, 'views': 2, '6': 2, 'blue': 2, 'updates.': 2, 'solution': 2, 'days.': 2, 'bad': 2, 'reviews?': 2, 'x': 2, 'fps': 2, 'great!': 2, 'psycho': 2, 'babble': 2, 'here': 2, 'idiots.': 2, 'probably': 2, 'communists': 2, 'leftists.': 2, 'opinion.': 2, 'nature': 2, 'glad': 2, 'essence': 2, 'tact.': 2, 'haters,': 2, 'quality.': 2, 'disappointed.': 2, 'playable,': 2, 'best.': 2, 'offers': 2, 'opening': 2, 'takes': 2, 'entire': 2, 'screen': 2, 'co': 2, 'op': 2, 'laggy': 2, 'mostly': 2, 'fine.': 2, 'невозможно': 2, 'даже': 2, 'запустить!': 2, 'падает': 2, 'сразу': 2, 'battle.net.': 2, 'железо': 2, 'удовлетворяет': 2, 'требованиям,': 2, 'драйвера': 2, 'обновлены,': 2, 'ось': 2, 'обновлена..': 2, 'chat': 2, '„named”': 2, 'kills': 2, 'endgame': 2, 'supposed': 2, 'half-product.': 2, 'background...': 2, 'avid': 2, '10+': 2, 'then,': 2, 'anxiously': 2, 'awaiting': 2, '4.': 2, 'exclusively': 2, 'arpgs.': 2, 'investment': 2, 'night,': 2, 'bypass': 2, 'roll': 2, 'error': 2, 'messages,': 2, '27.': 2, 'excited': 2, 'past': 2, 'issue': 2, 'exited': 2, 'bed.': 2, 'woke': 2, 'morning,': 2, 'logged': 2, 'in,': 2, 'rolled': 2, 'end': 2, 'drops': 2, 'gone,': 2, 'multiple': 2, 'levels.': 2, 'kids': 2, '3.5': 2, 'month': 2, 'old.': 2, 'week.': 2, 'multi': 2, 'billion': 2, 'dollar': 2, 'company,': 2, 'inexcusable.': 2, 'honestly': 2, 'companies': 2, 'par': 2, 'course': 2, 'beyond': 2, 'excuse': 2, 'warn': 2, 'anyone': 2, 'bit.': 2, 'greatest': 2, 'begin': 2, 'express': 2, 'frustrating': 2, 'littered': 2, 'buyer': 2, 'beware.': 2, 'excellent': 2, 'work...': 2, 'oh...': 2, 'playable': 2, 'sorc': 2, 'unbearably': 2, 'realize': 2, 'freaks,': 2, 'excuse.': 2, 'wouldnt': 2, 'forgive': 2, 'killing': 2, 'amazon.': 2, 'shame.': 2, 'decisions': 2, 'masterpiece.': 2, 'pc,': 2, 'switch,': 2, 'hours.': 2, 'eu': 2, 'itself': 2, 'cares,': 2, 'meant': 2, 'игнорируйте': 2, 'этих': 2, 'идиотов': 2, 'ставит': 2, 'высокие': 2, 'этому': 2, 'мусору.': 2, 'последняя': 2, 'надежда': 2, 'всегда': 2, 'провал': 2, 'разачоравание': 2, 'забагованное': 2, 'чудовище,': 2, 'уродцы,': 2, 'страшные': 2, 'потасканные,': 2, 'сжв': 2, 'повесточка': 2, 'самом': 2, 'разгаре,': 2, 'моего': 2, 'любимого': 2, 'амазонку,': 2, 'вообще': 2, 'сделали': 2, 'трансгендерным': 2, 'мужиком,': 2, 'хочется.': 2, 'вылетает,': 2, 'хрен': 2, 'зайдешь,': 2, 'самоудаляются,': 2, 'интерфейс': 2, 'удобный,': 2, 'полный': 2, 'мусор,': 2, 'игра.': 2, 'goodgoodgoodgoodgoodgoodgoodgoodgoodgoodgoodgoodgoodgoodgoodgoodgoodgoodgoodgoodgoodgoodgoodgoodgood': 2, 'dejaros': 2, 'de': 2, 'haters': 2, 'mierdas': 2, 'disfrutar': 2, 'del': 2, 'juego.': 2, 'es': 2, 'juegazo': 2, 'tal': 2, 'como': 2, 'lo': 2, 'recordabas': 2, 'en': 2, 'el': 2, 'año': 2, 'remastered!': 2, 'good,': 2, 'modes(including': 2, '60fps).': 2, 'great!!': 2, 'repaired,': 2, 'cry': 2, 'inventory,': 2, 'please.': 2, 'sorry': 2, 'disappointment.': 2, 'yes,': 2, '2000...': 2, 'ps5,': 2, 'diablo3': 2, 'had,': 2, 'ps5...': 2, 'dumb.': 2, 'picked': 2, 'automatically,': 2, 'crap...': 2, 'money,': 2, 'videos,': 2, 'game...': 2, 'word': 2, 'good-looking': 2, '21': 2, 'ago...': 2, 'hw': 2, 'time...': 2, 'regret': 2, '$99': 2, 'this,': 2, 'installed': 2, 'uninstalled': 2, 'later': 2, 'realized,': 2, 'dumb...': 2, 'hope': 2, 'removed': 2, 'offer': 2, 'cyberpunk': 2, '2077.': 2, 'ridiculous.': 2, 'dated': 2, 'indeed.': 2, 'hard': 2, 'fans.': 2, 'normal': 2, 'bored': 2, 'soon.': 2, 'bombs.': 2, 'poured': 2, 'soul': 2, 'remake.': 2, 'bugs,': 2, 'day.': 2, 'sick': 2, 'babies,': 2, 'wahhhhh': 2, 'pony': 2, 'pa': 2, 'pa.': 2, 'impressive': 2, 'amount': 2, 'content': 2, 'fleshing': 2, 'world.': 2})\n"
     ]
    }
   ],
   "source": [
    "#Stage Five: Plot some Aspect of the Data\n",
    "from collections import Counter\n",
    "\n",
    "word_bag = Counter()\n",
    "ac_reviews['review'].str.lower().str.split().apply(word_bag.update)\n",
    "\n",
    "\n",
    "print(word_bag)\n",
    "\n"
   ]
  },
  {
   "cell_type": "code",
   "execution_count": 23,
   "metadata": {},
   "outputs": [
    {
     "data": {
      "text/plain": [
       "<BarContainer object of 20 artists>"
      ]
     },
     "execution_count": 23,
     "metadata": {},
     "output_type": "execute_result"
    },
    {
     "data": {
      "image/png": "[encoded data removed]",
      "text/plain": [
       "<Figure size 432x288 with 1 Axes>"
      ]
     },
     "metadata": {
      "needs_background": "light"
     },
     "output_type": "display_data"
    }
   ],
   "source": [
    "dh_words, dh_counts = zip(*word_bag.most_common(20))\n",
    "\n",
    "import matplotlib.pyplot as plt\n",
    "plt.barh(dh_words, dh_counts)"
   ]
  }
 ],
 "metadata": {
  "interpreter": {
   "hash": "513dc2e41d739bb2c947903f3c0bbf636d03aa53ab50e61c694a27481c81805e"
  },
  "kernelspec": {
   "display_name": "Python 3.8.11 64-bit ('base': conda)",
   "name": "python3"
  },
  "language_info": {
   "codemirror_mode": {
    "name": "ipython",
    "version": 3
   },
   "file_extension": ".py",
   "mimetype": "text/x-python",
   "name": "python",
   "nbconvert_exporter": "python",
   "pygments_lexer": "ipython3",
   "version": "3.8.11"
  },
  "orig_nbformat": 4
 },
 "nbformat": 4,
 "nbformat_minor": 2
}
